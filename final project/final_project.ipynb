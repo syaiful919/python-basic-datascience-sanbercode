{
 "cells": [
  {
   "cell_type": "code",
   "execution_count": 123,
   "metadata": {},
   "outputs": [],
   "source": [
    "import numpy as np\n",
    "import pandas as pd\n",
    "import matplotlib.pyplot as plt\n",
    "from sklearn.model_selection import train_test_split\n",
    "from sklearn.neighbors import KNeighborsClassifier\n",
    "from sklearn.model_selection import RandomizedSearchCV\n",
    "from sklearn.metrics import roc_auc_score\n",
    "from sklearn.preprocessing import StandardScaler\n"
   ]
  },
  {
   "cell_type": "code",
   "execution_count": 355,
   "metadata": {},
   "outputs": [],
   "source": [
    "df = pd.read_csv('Pendapatan.csv')"
   ]
  },
  {
   "cell_type": "code",
   "execution_count": 356,
   "metadata": {},
   "outputs": [
    {
     "data": {
      "text/plain": [
       "id                       False\n",
       "Umur                     False\n",
       "Kelas Pekerja            False\n",
       "Berat Akhir              False\n",
       "Pendidikan               False\n",
       "Jmlh Tahun Pendidikan    False\n",
       "Status Perkawinan        False\n",
       "Pekerjaan                False\n",
       "Jenis Kelamin            False\n",
       "Keuntungan Kapital       False\n",
       "Kerugian Capital         False\n",
       "Jam per Minggu           False\n",
       "Gaji                     False\n",
       "dtype: bool"
      ]
     },
     "execution_count": 356,
     "metadata": {},
     "output_type": "execute_result"
    }
   ],
   "source": [
    "df.isnull().any()"
   ]
  },
  {
   "cell_type": "code",
   "execution_count": 357,
   "metadata": {},
   "outputs": [
    {
     "data": {
      "text/plain": [
       "Wiraswasta                       26589\n",
       "Pekerja Bebas Bukan Perusahan     3072\n",
       "Pemerintah Lokal                  2454\n",
       "?                                 2204\n",
       "Pemerintah Negara                 1579\n",
       "Pekerja Bebas Perusahaan          1345\n",
       "Pemerintah Provinsi               1128\n",
       "Tanpa di Bayar                      16\n",
       "Tidak Pernah Bekerja                 6\n",
       "Name: Kelas Pekerja, dtype: int64"
      ]
     },
     "execution_count": 357,
     "metadata": {},
     "output_type": "execute_result"
    }
   ],
   "source": [
    "df['Kelas Pekerja'].value_counts()"
   ]
  },
  {
   "cell_type": "code",
   "execution_count": 358,
   "metadata": {},
   "outputs": [
    {
     "data": {
      "text/plain": [
       "Spesialis                4911\n",
       "Ekesekutif Managerial    4790\n",
       "Perbaikan Kerajinan      4788\n",
       "Pemuka Agama             4408\n",
       "Sales                    4323\n",
       "Servis Lainnya           3859\n",
       "Mesin Inspeksi           2380\n",
       "?                        2204\n",
       "Supir                    1859\n",
       "Pembersih                1650\n",
       "Petani                   1150\n",
       "Tech-support             1122\n",
       "Penjaga                   734\n",
       "Asisten Rumah Tangga      198\n",
       "Tentara                    11\n",
       "Pengangguran                6\n",
       "Name: Pekerjaan, dtype: int64"
      ]
     },
     "execution_count": 358,
     "metadata": {},
     "output_type": "execute_result"
    }
   ],
   "source": [
    "df[(df['Kelas Pekerja'] != '?') & (df['Pekerjaan'] == '?')]\n",
    "df['Pekerjaan'] = np.where(((df['Kelas Pekerja'] != '?') & (df['Pekerjaan'] == '?')),'Pengangguran',df['Pekerjaan'])\n",
    "df['Pekerjaan'].value_counts() "
   ]
  },
  {
   "cell_type": "code",
   "execution_count": 359,
   "metadata": {},
   "outputs": [],
   "source": [
    "df = df[(df['Kelas Pekerja'] != '?') & (df['Pekerjaan'] != '?')]"
   ]
  },
  {
   "cell_type": "code",
   "execution_count": 360,
   "metadata": {},
   "outputs": [
    {
     "data": {
      "text/plain": [
       "9     11789\n",
       "10     7869\n",
       "13     6115\n",
       "14     2045\n",
       "11     1546\n",
       "7      1266\n",
       "12     1199\n",
       "6       974\n",
       "15      648\n",
       "4       636\n",
       "5       554\n",
       "16      464\n",
       "8       464\n",
       "3       385\n",
       "2       180\n",
       "1        55\n",
       "Name: Jmlh Tahun Pendidikan, dtype: int64"
      ]
     },
     "execution_count": 360,
     "metadata": {},
     "output_type": "execute_result"
    }
   ],
   "source": [
    "df['Jmlh Tahun Pendidikan'].value_counts()"
   ]
  },
  {
   "cell_type": "code",
   "execution_count": 361,
   "metadata": {},
   "outputs": [
    {
     "data": {
      "text/html": [
       "<div>\n",
       "<style scoped>\n",
       "    .dataframe tbody tr th:only-of-type {\n",
       "        vertical-align: middle;\n",
       "    }\n",
       "\n",
       "    .dataframe tbody tr th {\n",
       "        vertical-align: top;\n",
       "    }\n",
       "\n",
       "    .dataframe thead th {\n",
       "        text-align: right;\n",
       "    }\n",
       "</style>\n",
       "<table border=\"1\" class=\"dataframe\">\n",
       "  <thead>\n",
       "    <tr style=\"text-align: right;\">\n",
       "      <th></th>\n",
       "      <th>id</th>\n",
       "      <th>Umur</th>\n",
       "      <th>Kelas Pekerja</th>\n",
       "      <th>Berat Akhir</th>\n",
       "      <th>Pendidikan</th>\n",
       "      <th>Jmlh Tahun Pendidikan</th>\n",
       "      <th>Status Perkawinan</th>\n",
       "      <th>Pekerjaan</th>\n",
       "      <th>Jenis Kelamin</th>\n",
       "      <th>Jam per Minggu</th>\n",
       "      <th>Gaji</th>\n",
       "    </tr>\n",
       "  </thead>\n",
       "  <tbody>\n",
       "    <tr>\n",
       "      <th>0</th>\n",
       "      <td>27247</td>\n",
       "      <td>59</td>\n",
       "      <td>Pemerintah Negara</td>\n",
       "      <td>139616</td>\n",
       "      <td>Master</td>\n",
       "      <td>14</td>\n",
       "      <td>Menikah</td>\n",
       "      <td>Ekesekutif Managerial</td>\n",
       "      <td>Laki2</td>\n",
       "      <td>50.0</td>\n",
       "      <td>1</td>\n",
       "    </tr>\n",
       "    <tr>\n",
       "      <th>1</th>\n",
       "      <td>1640</td>\n",
       "      <td>52</td>\n",
       "      <td>Wiraswasta</td>\n",
       "      <td>158993</td>\n",
       "      <td>SMA</td>\n",
       "      <td>9</td>\n",
       "      <td>Cerai</td>\n",
       "      <td>Servis Lainnya</td>\n",
       "      <td>Perempuan</td>\n",
       "      <td>38.0</td>\n",
       "      <td>0</td>\n",
       "    </tr>\n",
       "    <tr>\n",
       "      <th>2</th>\n",
       "      <td>45206</td>\n",
       "      <td>52</td>\n",
       "      <td>Pekerja Bebas Bukan Perusahan</td>\n",
       "      <td>284648</td>\n",
       "      <td>SMA</td>\n",
       "      <td>9</td>\n",
       "      <td>Cerai</td>\n",
       "      <td>Ekesekutif Managerial</td>\n",
       "      <td>Perempuan</td>\n",
       "      <td>99.0</td>\n",
       "      <td>1</td>\n",
       "    </tr>\n",
       "    <tr>\n",
       "      <th>3</th>\n",
       "      <td>16154</td>\n",
       "      <td>45</td>\n",
       "      <td>Wiraswasta</td>\n",
       "      <td>132847</td>\n",
       "      <td>SMA</td>\n",
       "      <td>9</td>\n",
       "      <td>Belum Pernah Menikah</td>\n",
       "      <td>Pembersih</td>\n",
       "      <td>Perempuan</td>\n",
       "      <td>40.0</td>\n",
       "      <td>0</td>\n",
       "    </tr>\n",
       "    <tr>\n",
       "      <th>4</th>\n",
       "      <td>43023</td>\n",
       "      <td>28</td>\n",
       "      <td>Wiraswasta</td>\n",
       "      <td>103432</td>\n",
       "      <td>SMA</td>\n",
       "      <td>9</td>\n",
       "      <td>Belum Pernah Menikah</td>\n",
       "      <td>Supir</td>\n",
       "      <td>Laki2</td>\n",
       "      <td>45.0</td>\n",
       "      <td>1</td>\n",
       "    </tr>\n",
       "    <tr>\n",
       "      <th>...</th>\n",
       "      <td>...</td>\n",
       "      <td>...</td>\n",
       "      <td>...</td>\n",
       "      <td>...</td>\n",
       "      <td>...</td>\n",
       "      <td>...</td>\n",
       "      <td>...</td>\n",
       "      <td>...</td>\n",
       "      <td>...</td>\n",
       "      <td>...</td>\n",
       "      <td>...</td>\n",
       "    </tr>\n",
       "    <tr>\n",
       "      <th>38388</th>\n",
       "      <td>46220</td>\n",
       "      <td>47</td>\n",
       "      <td>Pekerja Bebas Bukan Perusahan</td>\n",
       "      <td>148169</td>\n",
       "      <td>SMA</td>\n",
       "      <td>9</td>\n",
       "      <td>Menikah</td>\n",
       "      <td>Perbaikan Kerajinan</td>\n",
       "      <td>Laki2</td>\n",
       "      <td>40.0</td>\n",
       "      <td>0</td>\n",
       "    </tr>\n",
       "    <tr>\n",
       "      <th>38389</th>\n",
       "      <td>33268</td>\n",
       "      <td>69</td>\n",
       "      <td>Pekerja Bebas Perusahaan</td>\n",
       "      <td>264722</td>\n",
       "      <td>D3</td>\n",
       "      <td>12</td>\n",
       "      <td>Menikah</td>\n",
       "      <td>Sales</td>\n",
       "      <td>Laki2</td>\n",
       "      <td>40.0</td>\n",
       "      <td>1</td>\n",
       "    </tr>\n",
       "    <tr>\n",
       "      <th>38390</th>\n",
       "      <td>44845</td>\n",
       "      <td>24</td>\n",
       "      <td>Pekerja Bebas Bukan Perusahan</td>\n",
       "      <td>31606</td>\n",
       "      <td>Sarjana</td>\n",
       "      <td>13</td>\n",
       "      <td>Menikah</td>\n",
       "      <td>Spesialis</td>\n",
       "      <td>Perempuan</td>\n",
       "      <td>20.0</td>\n",
       "      <td>1</td>\n",
       "    </tr>\n",
       "    <tr>\n",
       "      <th>38391</th>\n",
       "      <td>4517</td>\n",
       "      <td>47</td>\n",
       "      <td>Wiraswasta</td>\n",
       "      <td>197836</td>\n",
       "      <td>SMA</td>\n",
       "      <td>9</td>\n",
       "      <td>Menikah</td>\n",
       "      <td>Sales</td>\n",
       "      <td>Laki2</td>\n",
       "      <td>45.0</td>\n",
       "      <td>0</td>\n",
       "    </tr>\n",
       "    <tr>\n",
       "      <th>38392</th>\n",
       "      <td>38693</td>\n",
       "      <td>45</td>\n",
       "      <td>Wiraswasta</td>\n",
       "      <td>243743</td>\n",
       "      <td>Sarjana</td>\n",
       "      <td>13</td>\n",
       "      <td>Menikah</td>\n",
       "      <td>Ekesekutif Managerial</td>\n",
       "      <td>Laki2</td>\n",
       "      <td>60.0</td>\n",
       "      <td>1</td>\n",
       "    </tr>\n",
       "  </tbody>\n",
       "</table>\n",
       "<p>36189 rows × 11 columns</p>\n",
       "</div>"
      ],
      "text/plain": [
       "          id  Umur                  Kelas Pekerja  Berat Akhir Pendidikan  \\\n",
       "0      27247    59              Pemerintah Negara       139616     Master   \n",
       "1       1640    52                     Wiraswasta       158993        SMA   \n",
       "2      45206    52  Pekerja Bebas Bukan Perusahan       284648        SMA   \n",
       "3      16154    45                     Wiraswasta       132847        SMA   \n",
       "4      43023    28                     Wiraswasta       103432        SMA   \n",
       "...      ...   ...                            ...          ...        ...   \n",
       "38388  46220    47  Pekerja Bebas Bukan Perusahan       148169        SMA   \n",
       "38389  33268    69       Pekerja Bebas Perusahaan       264722         D3   \n",
       "38390  44845    24  Pekerja Bebas Bukan Perusahan        31606    Sarjana   \n",
       "38391   4517    47                     Wiraswasta       197836        SMA   \n",
       "38392  38693    45                     Wiraswasta       243743    Sarjana   \n",
       "\n",
       "       Jmlh Tahun Pendidikan     Status Perkawinan              Pekerjaan  \\\n",
       "0                         14               Menikah  Ekesekutif Managerial   \n",
       "1                          9                 Cerai         Servis Lainnya   \n",
       "2                          9                 Cerai  Ekesekutif Managerial   \n",
       "3                          9  Belum Pernah Menikah              Pembersih   \n",
       "4                          9  Belum Pernah Menikah                  Supir   \n",
       "...                      ...                   ...                    ...   \n",
       "38388                      9               Menikah    Perbaikan Kerajinan   \n",
       "38389                     12               Menikah                  Sales   \n",
       "38390                     13               Menikah              Spesialis   \n",
       "38391                      9               Menikah                  Sales   \n",
       "38392                     13               Menikah  Ekesekutif Managerial   \n",
       "\n",
       "      Jenis Kelamin  Jam per Minggu  Gaji  \n",
       "0             Laki2            50.0     1  \n",
       "1         Perempuan            38.0     0  \n",
       "2         Perempuan            99.0     1  \n",
       "3         Perempuan            40.0     0  \n",
       "4             Laki2            45.0     1  \n",
       "...             ...             ...   ...  \n",
       "38388         Laki2            40.0     0  \n",
       "38389         Laki2            40.0     1  \n",
       "38390     Perempuan            20.0     1  \n",
       "38391         Laki2            45.0     0  \n",
       "38392         Laki2            60.0     1  \n",
       "\n",
       "[36189 rows x 11 columns]"
      ]
     },
     "execution_count": 361,
     "metadata": {},
     "output_type": "execute_result"
    }
   ],
   "source": [
    "df = df.drop(['Kerugian Capital', 'Keuntungan Kapital'], axis= 1)\n",
    "df"
   ]
  },
  {
   "cell_type": "code",
   "execution_count": 362,
   "metadata": {},
   "outputs": [],
   "source": [
    "education_mapping = {\n",
    "    'SMA':0, \n",
    "    'Pendidikan Tinggi':1, \n",
    "    'Sarjana':2, \n",
    "    'Master':3, \n",
    "    'D4':4, \n",
    "    '11th':5,\n",
    "    'D3':6,\n",
    "    '10th':7,\n",
    "    'Sekolah Professional':8,\n",
    "    '7th-8th':9,\n",
    "    '9th':10,\n",
    "    '12th':11,\n",
    "    'Doktor':12,\n",
    "    '5th-6th':13,\n",
    "    '1st-4th':14,\n",
    "    'SD':15\n",
    "}\n",
    "df['Pendidikan'] = df['Pendidikan'].map(education_mapping)"
   ]
  },
  {
   "cell_type": "code",
   "execution_count": 363,
   "metadata": {},
   "outputs": [
    {
     "data": {
      "text/plain": [
       "0     11789\n",
       "1      7869\n",
       "2      6115\n",
       "3      2045\n",
       "4      1546\n",
       "5      1266\n",
       "6      1199\n",
       "7       974\n",
       "8       648\n",
       "9       636\n",
       "10      554\n",
       "12      464\n",
       "11      464\n",
       "13      385\n",
       "14      180\n",
       "15       55\n",
       "Name: Pendidikan, dtype: int64"
      ]
     },
     "execution_count": 363,
     "metadata": {},
     "output_type": "execute_result"
    }
   ],
   "source": [
    "df['Pendidikan'].value_counts()"
   ]
  },
  {
   "cell_type": "code",
   "execution_count": 364,
   "metadata": {},
   "outputs": [],
   "source": [
    "sex_mapping = {\n",
    "    'Perempuan':0, \n",
    "    'Laki2':1\n",
    "}\n",
    "df['Jenis Kelamin'] = df['Jenis Kelamin'].map(sex_mapping)"
   ]
  },
  {
   "cell_type": "code",
   "execution_count": 365,
   "metadata": {},
   "outputs": [],
   "source": [
    "marital_mapping = {\n",
    "    'Menikah':0, \n",
    "    'Belum Pernah Menikah':1, \n",
    "    'Cerai':2, \n",
    "    'Berpisah':3, \n",
    "    'Janda':4, \n",
    "    'Menikah LDR':5\n",
    "}\n",
    "df['Status Perkawinan'] = df['Status Perkawinan'].map(marital_mapping)"
   ]
  },
  {
   "cell_type": "code",
   "execution_count": 366,
   "metadata": {},
   "outputs": [],
   "source": [
    "job_mapping = {\n",
    "    'Spesialis':0, \n",
    "    'Ekesekutif Managerial':1, \n",
    "    'Perbaikan Kerajinan':2, \n",
    "    'Pemuka Agama':3, \n",
    "    'Sales':4, \n",
    "    'Servis Lainnya':5,\n",
    "    'Mesin Inspeksi':6,\n",
    "    'Supir':7,\n",
    "    'Pembersih':8,\n",
    "    'Petani':9,\n",
    "    'Tech-support':10,\n",
    "    'Penjaga':11,\n",
    "    'Asisten Rumah Tangga':12,\n",
    "    'Tentara':13,\n",
    "    'Pengangguran':14\n",
    "}\n",
    "df['Pekerjaan'] = df['Pekerjaan'].map(job_mapping)"
   ]
  },
  {
   "cell_type": "code",
   "execution_count": 367,
   "metadata": {},
   "outputs": [
    {
     "data": {
      "text/plain": [
       "Wiraswasta                       26589\n",
       "Pekerja Bebas Bukan Perusahan     3072\n",
       "Pemerintah Lokal                  2454\n",
       "Pemerintah Negara                 1579\n",
       "Pekerja Bebas Perusahaan          1345\n",
       "Pemerintah Provinsi               1128\n",
       "Tanpa di Bayar                      16\n",
       "Tidak Pernah Bekerja                 6\n",
       "Name: Kelas Pekerja, dtype: int64"
      ]
     },
     "execution_count": 367,
     "metadata": {},
     "output_type": "execute_result"
    }
   ],
   "source": [
    "df['Kelas Pekerja'].value_counts()"
   ]
  },
  {
   "cell_type": "code",
   "execution_count": 368,
   "metadata": {},
   "outputs": [],
   "source": [
    "working_class_mapping = {\n",
    "    'Wiraswasta':0, \n",
    "    'Pekerja Bebas Bukan Perusahan':1, \n",
    "    'Pemerintah Lokal':2, \n",
    "    'Pemerintah Negara':3, \n",
    "    'Pekerja Bebas Perusahaan':4, \n",
    "    'Pemerintah Provinsi':5,\n",
    "    'Tanpa di Bayar':6,\n",
    "    'Tidak Pernah Bekerja':7,\n",
    "}\n",
    "df['Kelas Pekerja'] = df['Kelas Pekerja'].map(working_class_mapping)"
   ]
  },
  {
   "cell_type": "code",
   "execution_count": 369,
   "metadata": {},
   "outputs": [
    {
     "data": {
      "text/html": [
       "<div>\n",
       "<style scoped>\n",
       "    .dataframe tbody tr th:only-of-type {\n",
       "        vertical-align: middle;\n",
       "    }\n",
       "\n",
       "    .dataframe tbody tr th {\n",
       "        vertical-align: top;\n",
       "    }\n",
       "\n",
       "    .dataframe thead th {\n",
       "        text-align: right;\n",
       "    }\n",
       "</style>\n",
       "<table border=\"1\" class=\"dataframe\">\n",
       "  <thead>\n",
       "    <tr style=\"text-align: right;\">\n",
       "      <th></th>\n",
       "      <th>id</th>\n",
       "      <th>Umur</th>\n",
       "      <th>Kelas Pekerja</th>\n",
       "      <th>Berat Akhir</th>\n",
       "      <th>Pendidikan</th>\n",
       "      <th>Jmlh Tahun Pendidikan</th>\n",
       "      <th>Status Perkawinan</th>\n",
       "      <th>Pekerjaan</th>\n",
       "      <th>Jenis Kelamin</th>\n",
       "      <th>Jam per Minggu</th>\n",
       "      <th>Gaji</th>\n",
       "    </tr>\n",
       "  </thead>\n",
       "  <tbody>\n",
       "    <tr>\n",
       "      <th>0</th>\n",
       "      <td>27247</td>\n",
       "      <td>59</td>\n",
       "      <td>3</td>\n",
       "      <td>139616</td>\n",
       "      <td>3</td>\n",
       "      <td>14</td>\n",
       "      <td>0</td>\n",
       "      <td>1</td>\n",
       "      <td>1</td>\n",
       "      <td>50.0</td>\n",
       "      <td>1</td>\n",
       "    </tr>\n",
       "    <tr>\n",
       "      <th>1</th>\n",
       "      <td>1640</td>\n",
       "      <td>52</td>\n",
       "      <td>0</td>\n",
       "      <td>158993</td>\n",
       "      <td>0</td>\n",
       "      <td>9</td>\n",
       "      <td>2</td>\n",
       "      <td>5</td>\n",
       "      <td>0</td>\n",
       "      <td>38.0</td>\n",
       "      <td>0</td>\n",
       "    </tr>\n",
       "    <tr>\n",
       "      <th>2</th>\n",
       "      <td>45206</td>\n",
       "      <td>52</td>\n",
       "      <td>1</td>\n",
       "      <td>284648</td>\n",
       "      <td>0</td>\n",
       "      <td>9</td>\n",
       "      <td>2</td>\n",
       "      <td>1</td>\n",
       "      <td>0</td>\n",
       "      <td>99.0</td>\n",
       "      <td>1</td>\n",
       "    </tr>\n",
       "    <tr>\n",
       "      <th>3</th>\n",
       "      <td>16154</td>\n",
       "      <td>45</td>\n",
       "      <td>0</td>\n",
       "      <td>132847</td>\n",
       "      <td>0</td>\n",
       "      <td>9</td>\n",
       "      <td>1</td>\n",
       "      <td>8</td>\n",
       "      <td>0</td>\n",
       "      <td>40.0</td>\n",
       "      <td>0</td>\n",
       "    </tr>\n",
       "    <tr>\n",
       "      <th>4</th>\n",
       "      <td>43023</td>\n",
       "      <td>28</td>\n",
       "      <td>0</td>\n",
       "      <td>103432</td>\n",
       "      <td>0</td>\n",
       "      <td>9</td>\n",
       "      <td>1</td>\n",
       "      <td>7</td>\n",
       "      <td>1</td>\n",
       "      <td>45.0</td>\n",
       "      <td>1</td>\n",
       "    </tr>\n",
       "    <tr>\n",
       "      <th>...</th>\n",
       "      <td>...</td>\n",
       "      <td>...</td>\n",
       "      <td>...</td>\n",
       "      <td>...</td>\n",
       "      <td>...</td>\n",
       "      <td>...</td>\n",
       "      <td>...</td>\n",
       "      <td>...</td>\n",
       "      <td>...</td>\n",
       "      <td>...</td>\n",
       "      <td>...</td>\n",
       "    </tr>\n",
       "    <tr>\n",
       "      <th>38388</th>\n",
       "      <td>46220</td>\n",
       "      <td>47</td>\n",
       "      <td>1</td>\n",
       "      <td>148169</td>\n",
       "      <td>0</td>\n",
       "      <td>9</td>\n",
       "      <td>0</td>\n",
       "      <td>2</td>\n",
       "      <td>1</td>\n",
       "      <td>40.0</td>\n",
       "      <td>0</td>\n",
       "    </tr>\n",
       "    <tr>\n",
       "      <th>38389</th>\n",
       "      <td>33268</td>\n",
       "      <td>69</td>\n",
       "      <td>4</td>\n",
       "      <td>264722</td>\n",
       "      <td>6</td>\n",
       "      <td>12</td>\n",
       "      <td>0</td>\n",
       "      <td>4</td>\n",
       "      <td>1</td>\n",
       "      <td>40.0</td>\n",
       "      <td>1</td>\n",
       "    </tr>\n",
       "    <tr>\n",
       "      <th>38390</th>\n",
       "      <td>44845</td>\n",
       "      <td>24</td>\n",
       "      <td>1</td>\n",
       "      <td>31606</td>\n",
       "      <td>2</td>\n",
       "      <td>13</td>\n",
       "      <td>0</td>\n",
       "      <td>0</td>\n",
       "      <td>0</td>\n",
       "      <td>20.0</td>\n",
       "      <td>1</td>\n",
       "    </tr>\n",
       "    <tr>\n",
       "      <th>38391</th>\n",
       "      <td>4517</td>\n",
       "      <td>47</td>\n",
       "      <td>0</td>\n",
       "      <td>197836</td>\n",
       "      <td>0</td>\n",
       "      <td>9</td>\n",
       "      <td>0</td>\n",
       "      <td>4</td>\n",
       "      <td>1</td>\n",
       "      <td>45.0</td>\n",
       "      <td>0</td>\n",
       "    </tr>\n",
       "    <tr>\n",
       "      <th>38392</th>\n",
       "      <td>38693</td>\n",
       "      <td>45</td>\n",
       "      <td>0</td>\n",
       "      <td>243743</td>\n",
       "      <td>2</td>\n",
       "      <td>13</td>\n",
       "      <td>0</td>\n",
       "      <td>1</td>\n",
       "      <td>1</td>\n",
       "      <td>60.0</td>\n",
       "      <td>1</td>\n",
       "    </tr>\n",
       "  </tbody>\n",
       "</table>\n",
       "<p>36189 rows × 11 columns</p>\n",
       "</div>"
      ],
      "text/plain": [
       "          id  Umur  Kelas Pekerja  Berat Akhir  Pendidikan  \\\n",
       "0      27247    59              3       139616           3   \n",
       "1       1640    52              0       158993           0   \n",
       "2      45206    52              1       284648           0   \n",
       "3      16154    45              0       132847           0   \n",
       "4      43023    28              0       103432           0   \n",
       "...      ...   ...            ...          ...         ...   \n",
       "38388  46220    47              1       148169           0   \n",
       "38389  33268    69              4       264722           6   \n",
       "38390  44845    24              1        31606           2   \n",
       "38391   4517    47              0       197836           0   \n",
       "38392  38693    45              0       243743           2   \n",
       "\n",
       "       Jmlh Tahun Pendidikan  Status Perkawinan  Pekerjaan  Jenis Kelamin  \\\n",
       "0                         14                  0          1              1   \n",
       "1                          9                  2          5              0   \n",
       "2                          9                  2          1              0   \n",
       "3                          9                  1          8              0   \n",
       "4                          9                  1          7              1   \n",
       "...                      ...                ...        ...            ...   \n",
       "38388                      9                  0          2              1   \n",
       "38389                     12                  0          4              1   \n",
       "38390                     13                  0          0              0   \n",
       "38391                      9                  0          4              1   \n",
       "38392                     13                  0          1              1   \n",
       "\n",
       "       Jam per Minggu  Gaji  \n",
       "0                50.0     1  \n",
       "1                38.0     0  \n",
       "2                99.0     1  \n",
       "3                40.0     0  \n",
       "4                45.0     1  \n",
       "...               ...   ...  \n",
       "38388            40.0     0  \n",
       "38389            40.0     1  \n",
       "38390            20.0     1  \n",
       "38391            45.0     0  \n",
       "38392            60.0     1  \n",
       "\n",
       "[36189 rows x 11 columns]"
      ]
     },
     "execution_count": 369,
     "metadata": {},
     "output_type": "execute_result"
    }
   ],
   "source": [
    "df"
   ]
  },
  {
   "cell_type": "code",
   "execution_count": 370,
   "metadata": {},
   "outputs": [],
   "source": [
    "std_scaller = StandardScaler()\n",
    "df[['Jam per Minggu']] = std_scaller.fit_transform(df[['Jam per Minggu']])\n",
    "df[['Umur']] = std_scaller.fit_transform(df[['Umur']])\n",
    "df[['Berat Akhir']] = std_scaller.fit_transform(df[['Berat Akhir']])"
   ]
  },
  {
   "cell_type": "code",
   "execution_count": 371,
   "metadata": {},
   "outputs": [
    {
     "data": {
      "text/plain": [
       "RandomizedSearchCV(cv=10, error_score=nan,\n",
       "                   estimator=KNeighborsClassifier(algorithm='auto',\n",
       "                                                  leaf_size=30,\n",
       "                                                  metric='minkowski',\n",
       "                                                  metric_params=None,\n",
       "                                                  n_jobs=None, n_neighbors=5,\n",
       "                                                  p=2, weights='uniform'),\n",
       "                   iid='deprecated', n_iter=50, n_jobs=None,\n",
       "                   param_distributions={'n_neighbors': array([ 5,  6,  7,  8,  9, 10, 11, 12, 13, 14, 15, 16, 17, 18, 19, 20, 21,\n",
       "       22, 23, 24, 25, 26, 27, 28, 29]),\n",
       "                                        'weights': ['uniform', 'distance']},\n",
       "                   pre_dispatch='2*n_jobs', random_state=None, refit=True,\n",
       "                   return_train_score=False, scoring='roc_auc', verbose=0)"
      ]
     },
     "execution_count": 371,
     "metadata": {},
     "output_type": "execute_result"
    }
   ],
   "source": [
    "X = df.drop(['id', 'Gaji'], axis= 1)\n",
    "y = df['Gaji']\n",
    "\n",
    "X_train, X_test, y_train, y_test = train_test_split(X, y, test_size= 0.25, random_state= 21, stratify= y)\n",
    "\n",
    "model_knn = KNeighborsClassifier()\n",
    "param_grid = {\n",
    "    'n_neighbors': np.arange(5, 30),\n",
    "    'weights': ['uniform', 'distance']\n",
    "}\n",
    "rscv = RandomizedSearchCV(model_knn, param_grid, cv=10, scoring= 'roc_auc', n_iter=50)\n",
    "rscv.fit(X_train, y_train)"
   ]
  },
  {
   "cell_type": "code",
   "execution_count": 372,
   "metadata": {},
   "outputs": [
    {
     "data": {
      "text/plain": [
       "0.8696634634720798"
      ]
     },
     "execution_count": 372,
     "metadata": {},
     "output_type": "execute_result"
    }
   ],
   "source": [
    "rscv.best_score_"
   ]
  },
  {
   "cell_type": "code",
   "execution_count": 373,
   "metadata": {},
   "outputs": [
    {
     "data": {
      "text/plain": [
       "{'weights': 'uniform', 'n_neighbors': 28}"
      ]
     },
     "execution_count": 373,
     "metadata": {},
     "output_type": "execute_result"
    }
   ],
   "source": [
    "rscv.best_params_"
   ]
  },
  {
   "cell_type": "code",
   "execution_count": 374,
   "metadata": {},
   "outputs": [],
   "source": [
    "y_pred_val = rscv.predict_proba(X_test)"
   ]
  },
  {
   "cell_type": "code",
   "execution_count": 375,
   "metadata": {},
   "outputs": [
    {
     "data": {
      "text/plain": [
       "array([[0.89285714, 0.10714286],\n",
       "       [1.        , 0.        ],\n",
       "       [1.        , 0.        ],\n",
       "       ...,\n",
       "       [0.92857143, 0.07142857],\n",
       "       [0.78571429, 0.21428571],\n",
       "       [0.35714286, 0.64285714]])"
      ]
     },
     "execution_count": 375,
     "metadata": {},
     "output_type": "execute_result"
    }
   ],
   "source": [
    "y_pred_val"
   ]
  },
  {
   "cell_type": "code",
   "execution_count": 376,
   "metadata": {},
   "outputs": [],
   "source": [
    "y_pred_val_above_umr = y_pred_val[:, 1]"
   ]
  },
  {
   "cell_type": "code",
   "execution_count": 377,
   "metadata": {},
   "outputs": [
    {
     "data": {
      "text/plain": [
       "0.869099771586425"
      ]
     },
     "execution_count": 377,
     "metadata": {},
     "output_type": "execute_result"
    }
   ],
   "source": [
    "roc_auc_score(y_test, y_pred_val_above_umr)"
   ]
  },
  {
   "cell_type": "code",
   "execution_count": 378,
   "metadata": {},
   "outputs": [],
   "source": [
    "df_test = pd.read_csv('Pendapatan_test.csv')"
   ]
  },
  {
   "cell_type": "code",
   "execution_count": 379,
   "metadata": {},
   "outputs": [
    {
     "data": {
      "text/plain": [
       "Wiraswasta                       6714\n",
       "Pekerja Bebas Bukan Perusahan     732\n",
       "Pemerintah Lokal                  624\n",
       "?                                 552\n",
       "Pemerintah Negara                 376\n",
       "Pekerja Bebas Perusahaan          316\n",
       "Pemerintah Provinsi               279\n",
       "Tanpa di Bayar                      4\n",
       "Tidak Pernah Bekerja                2\n",
       "Name: Kelas Pekerja, dtype: int64"
      ]
     },
     "execution_count": 379,
     "metadata": {},
     "output_type": "execute_result"
    }
   ],
   "source": [
    "df_test['Kelas Pekerja'].value_counts()"
   ]
  },
  {
   "cell_type": "code",
   "execution_count": 380,
   "metadata": {},
   "outputs": [],
   "source": [
    "df_test['Pekerjaan'] = np.where(((df_test['Kelas Pekerja'] != '?') & (df_test['Pekerjaan'] == '?')),'Pengangguran',df_test['Pekerjaan'])\n",
    "df_test = df_test.drop(['Kerugian Capital', 'Keuntungan Kapital'], axis= 1)\n",
    "df_test['Pekerjaan'] = df_test['Pekerjaan'].replace('?', 'Pengangguran')\n",
    "df_test['Kelas Pekerja'] = df_test['Kelas Pekerja'].replace('?', 'Tidak Pernah Bekerja')"
   ]
  },
  {
   "cell_type": "code",
   "execution_count": 381,
   "metadata": {},
   "outputs": [],
   "source": [
    "education_mapping = {\n",
    "    'SMA':0, \n",
    "    'Pendidikan Tinggi':1, \n",
    "    'Sarjana':2, \n",
    "    'Master':3, \n",
    "    'D4':4, \n",
    "    '11th':5,\n",
    "    'D3':6,\n",
    "    '10th':7,\n",
    "    'Sekolah Professional':8,\n",
    "    '7th-8th':9,\n",
    "    '9th':10,\n",
    "    '12th':11,\n",
    "    'Doktor':12,\n",
    "    '5th-6th':13,\n",
    "    '1st-4th':14,\n",
    "    'SD':15\n",
    "}\n",
    "df_test['Pendidikan'] = df_test['Pendidikan'].map(education_mapping)"
   ]
  },
  {
   "cell_type": "code",
   "execution_count": 382,
   "metadata": {},
   "outputs": [],
   "source": [
    "sex_mapping = {\n",
    "    'Perempuan':0, \n",
    "    'Laki2':1\n",
    "}\n",
    "df_test['Jenis Kelamin'] = df_test['Jenis Kelamin'].map(sex_mapping)\n"
   ]
  },
  {
   "cell_type": "code",
   "execution_count": 383,
   "metadata": {},
   "outputs": [],
   "source": [
    "marital_mapping = {\n",
    "    'Menikah':0, \n",
    "    'Belum Pernah Menikah':1, \n",
    "    'Cerai':2, \n",
    "    'Berpisah':3, \n",
    "    'Janda':4, \n",
    "    'Menikah LDR':5\n",
    "}\n",
    "df_test['Status Perkawinan'] = df_test['Status Perkawinan'].map(marital_mapping)"
   ]
  },
  {
   "cell_type": "code",
   "execution_count": 384,
   "metadata": {},
   "outputs": [],
   "source": [
    "working_class_mapping = {\n",
    "    'Wiraswasta':0, \n",
    "    'Pekerja Bebas Bukan Perusahan':1, \n",
    "    'Pemerintah Lokal':2, \n",
    "    'Pemerintah Negara':3, \n",
    "    'Pekerja Bebas Perusahaan':4, \n",
    "    'Pemerintah Provinsi':5,\n",
    "    'Tanpa di Bayar':6,\n",
    "    'Tidak Pernah Bekerja':7,\n",
    "}\n",
    "df_test['Kelas Pekerja'] = df_test['Kelas Pekerja'].map(working_class_mapping)\n"
   ]
  },
  {
   "cell_type": "code",
   "execution_count": 385,
   "metadata": {},
   "outputs": [],
   "source": [
    "job_mapping = {\n",
    "    'Spesialis':0, \n",
    "    'Ekesekutif Managerial':1, \n",
    "    'Perbaikan Kerajinan':2, \n",
    "    'Pemuka Agama':3, \n",
    "    'Sales':4, \n",
    "    'Servis Lainnya':5,\n",
    "    'Mesin Inspeksi':6,\n",
    "    'Supir':7,\n",
    "    'Pembersih':8,\n",
    "    'Petani':9,\n",
    "    'Tech-support':10,\n",
    "    'Penjaga':11,\n",
    "    'Asisten Rumah Tangga':12,\n",
    "    'Tentara':13,\n",
    "    'Pengangguran':14\n",
    "}\n",
    "df_test['Pekerjaan'] = df_test['Pekerjaan'].map(job_mapping)"
   ]
  },
  {
   "cell_type": "code",
   "execution_count": 386,
   "metadata": {},
   "outputs": [],
   "source": [
    "std_scaller = StandardScaler()\n",
    "df_test[['Jam per Minggu']] = std_scaller.fit_transform(df_test[['Jam per Minggu']])\n",
    "df_test[['Umur']] = std_scaller.fit_transform(df_test[['Umur']])\n",
    "df_test[['Berat Akhir']] = std_scaller.fit_transform(df_test[['Berat Akhir']])\n"
   ]
  },
  {
   "cell_type": "code",
   "execution_count": 387,
   "metadata": {},
   "outputs": [
    {
     "data": {
      "text/html": [
       "<div>\n",
       "<style scoped>\n",
       "    .dataframe tbody tr th:only-of-type {\n",
       "        vertical-align: middle;\n",
       "    }\n",
       "\n",
       "    .dataframe tbody tr th {\n",
       "        vertical-align: top;\n",
       "    }\n",
       "\n",
       "    .dataframe thead th {\n",
       "        text-align: right;\n",
       "    }\n",
       "</style>\n",
       "<table border=\"1\" class=\"dataframe\">\n",
       "  <thead>\n",
       "    <tr style=\"text-align: right;\">\n",
       "      <th></th>\n",
       "      <th>id</th>\n",
       "      <th>Umur</th>\n",
       "      <th>Kelas Pekerja</th>\n",
       "      <th>Berat Akhir</th>\n",
       "      <th>Pendidikan</th>\n",
       "      <th>Jmlh Tahun Pendidikan</th>\n",
       "      <th>Status Perkawinan</th>\n",
       "      <th>Pekerjaan</th>\n",
       "      <th>Jenis Kelamin</th>\n",
       "      <th>Jam per Minggu</th>\n",
       "    </tr>\n",
       "  </thead>\n",
       "  <tbody>\n",
       "    <tr>\n",
       "      <th>0</th>\n",
       "      <td>47933</td>\n",
       "      <td>-0.612932</td>\n",
       "      <td>2</td>\n",
       "      <td>-0.847976</td>\n",
       "      <td>4</td>\n",
       "      <td>11</td>\n",
       "      <td>2</td>\n",
       "      <td>3</td>\n",
       "      <td>0</td>\n",
       "      <td>-0.026687</td>\n",
       "    </tr>\n",
       "    <tr>\n",
       "      <th>1</th>\n",
       "      <td>44213</td>\n",
       "      <td>-0.758052</td>\n",
       "      <td>0</td>\n",
       "      <td>0.114735</td>\n",
       "      <td>0</td>\n",
       "      <td>9</td>\n",
       "      <td>0</td>\n",
       "      <td>6</td>\n",
       "      <td>1</td>\n",
       "      <td>0.779877</td>\n",
       "    </tr>\n",
       "    <tr>\n",
       "      <th>2</th>\n",
       "      <td>20823</td>\n",
       "      <td>-0.322692</td>\n",
       "      <td>5</td>\n",
       "      <td>0.093384</td>\n",
       "      <td>1</td>\n",
       "      <td>10</td>\n",
       "      <td>0</td>\n",
       "      <td>3</td>\n",
       "      <td>1</td>\n",
       "      <td>-0.026687</td>\n",
       "    </tr>\n",
       "    <tr>\n",
       "      <th>3</th>\n",
       "      <td>40565</td>\n",
       "      <td>0.910830</td>\n",
       "      <td>0</td>\n",
       "      <td>1.723954</td>\n",
       "      <td>1</td>\n",
       "      <td>10</td>\n",
       "      <td>0</td>\n",
       "      <td>1</td>\n",
       "      <td>1</td>\n",
       "      <td>-0.026687</td>\n",
       "    </tr>\n",
       "    <tr>\n",
       "      <th>4</th>\n",
       "      <td>9860</td>\n",
       "      <td>-1.338533</td>\n",
       "      <td>7</td>\n",
       "      <td>-0.425810</td>\n",
       "      <td>1</td>\n",
       "      <td>10</td>\n",
       "      <td>1</td>\n",
       "      <td>14</td>\n",
       "      <td>0</td>\n",
       "      <td>-0.026687</td>\n",
       "    </tr>\n",
       "    <tr>\n",
       "      <th>...</th>\n",
       "      <td>...</td>\n",
       "      <td>...</td>\n",
       "      <td>...</td>\n",
       "      <td>...</td>\n",
       "      <td>...</td>\n",
       "      <td>...</td>\n",
       "      <td>...</td>\n",
       "      <td>...</td>\n",
       "      <td>...</td>\n",
       "      <td>...</td>\n",
       "    </tr>\n",
       "    <tr>\n",
       "      <th>9594</th>\n",
       "      <td>13587</td>\n",
       "      <td>1.418751</td>\n",
       "      <td>3</td>\n",
       "      <td>-0.291090</td>\n",
       "      <td>10</td>\n",
       "      <td>5</td>\n",
       "      <td>0</td>\n",
       "      <td>9</td>\n",
       "      <td>1</td>\n",
       "      <td>-0.026687</td>\n",
       "    </tr>\n",
       "    <tr>\n",
       "      <th>9595</th>\n",
       "      <td>33231</td>\n",
       "      <td>0.475469</td>\n",
       "      <td>1</td>\n",
       "      <td>-0.431439</td>\n",
       "      <td>5</td>\n",
       "      <td>7</td>\n",
       "      <td>0</td>\n",
       "      <td>2</td>\n",
       "      <td>1</td>\n",
       "      <td>0.779877</td>\n",
       "    </tr>\n",
       "    <tr>\n",
       "      <th>9596</th>\n",
       "      <td>18614</td>\n",
       "      <td>-1.338533</td>\n",
       "      <td>0</td>\n",
       "      <td>0.457540</td>\n",
       "      <td>1</td>\n",
       "      <td>10</td>\n",
       "      <td>1</td>\n",
       "      <td>5</td>\n",
       "      <td>0</td>\n",
       "      <td>-0.671938</td>\n",
       "    </tr>\n",
       "    <tr>\n",
       "      <th>9597</th>\n",
       "      <td>37566</td>\n",
       "      <td>0.185229</td>\n",
       "      <td>2</td>\n",
       "      <td>0.554840</td>\n",
       "      <td>0</td>\n",
       "      <td>9</td>\n",
       "      <td>3</td>\n",
       "      <td>3</td>\n",
       "      <td>0</td>\n",
       "      <td>-0.026687</td>\n",
       "    </tr>\n",
       "    <tr>\n",
       "      <th>9598</th>\n",
       "      <td>6744</td>\n",
       "      <td>-0.322692</td>\n",
       "      <td>1</td>\n",
       "      <td>-1.550897</td>\n",
       "      <td>0</td>\n",
       "      <td>9</td>\n",
       "      <td>0</td>\n",
       "      <td>9</td>\n",
       "      <td>1</td>\n",
       "      <td>3.199569</td>\n",
       "    </tr>\n",
       "  </tbody>\n",
       "</table>\n",
       "<p>9599 rows × 10 columns</p>\n",
       "</div>"
      ],
      "text/plain": [
       "         id      Umur  Kelas Pekerja  Berat Akhir  Pendidikan  \\\n",
       "0     47933 -0.612932              2    -0.847976           4   \n",
       "1     44213 -0.758052              0     0.114735           0   \n",
       "2     20823 -0.322692              5     0.093384           1   \n",
       "3     40565  0.910830              0     1.723954           1   \n",
       "4      9860 -1.338533              7    -0.425810           1   \n",
       "...     ...       ...            ...          ...         ...   \n",
       "9594  13587  1.418751              3    -0.291090          10   \n",
       "9595  33231  0.475469              1    -0.431439           5   \n",
       "9596  18614 -1.338533              0     0.457540           1   \n",
       "9597  37566  0.185229              2     0.554840           0   \n",
       "9598   6744 -0.322692              1    -1.550897           0   \n",
       "\n",
       "      Jmlh Tahun Pendidikan  Status Perkawinan  Pekerjaan  Jenis Kelamin  \\\n",
       "0                        11                  2          3              0   \n",
       "1                         9                  0          6              1   \n",
       "2                        10                  0          3              1   \n",
       "3                        10                  0          1              1   \n",
       "4                        10                  1         14              0   \n",
       "...                     ...                ...        ...            ...   \n",
       "9594                      5                  0          9              1   \n",
       "9595                      7                  0          2              1   \n",
       "9596                     10                  1          5              0   \n",
       "9597                      9                  3          3              0   \n",
       "9598                      9                  0          9              1   \n",
       "\n",
       "      Jam per Minggu  \n",
       "0          -0.026687  \n",
       "1           0.779877  \n",
       "2          -0.026687  \n",
       "3          -0.026687  \n",
       "4          -0.026687  \n",
       "...              ...  \n",
       "9594       -0.026687  \n",
       "9595        0.779877  \n",
       "9596       -0.671938  \n",
       "9597       -0.026687  \n",
       "9598        3.199569  \n",
       "\n",
       "[9599 rows x 10 columns]"
      ]
     },
     "execution_count": 387,
     "metadata": {},
     "output_type": "execute_result"
    }
   ],
   "source": [
    "df_test"
   ]
  },
  {
   "cell_type": "code",
   "execution_count": 388,
   "metadata": {},
   "outputs": [],
   "source": [
    "X = df_test.drop('id', axis= 1)\n",
    "y_id = df_test['id']"
   ]
  },
  {
   "cell_type": "code",
   "execution_count": 389,
   "metadata": {},
   "outputs": [
    {
     "data": {
      "text/plain": [
       "Umur                     0\n",
       "Kelas Pekerja            0\n",
       "Berat Akhir              0\n",
       "Pendidikan               0\n",
       "Jmlh Tahun Pendidikan    0\n",
       "Status Perkawinan        0\n",
       "Pekerjaan                0\n",
       "Jenis Kelamin            0\n",
       "Jam per Minggu           0\n",
       "dtype: int64"
      ]
     },
     "execution_count": 389,
     "metadata": {},
     "output_type": "execute_result"
    }
   ],
   "source": [
    "X.isnull().sum()"
   ]
  },
  {
   "cell_type": "code",
   "execution_count": 390,
   "metadata": {},
   "outputs": [],
   "source": [
    "y_pred_test = rscv.predict(X)"
   ]
  },
  {
   "cell_type": "code",
   "execution_count": 391,
   "metadata": {},
   "outputs": [
    {
     "data": {
      "text/plain": [
       "array([0, 0, 0, ..., 0, 0, 0], dtype=int64)"
      ]
     },
     "execution_count": 391,
     "metadata": {},
     "output_type": "execute_result"
    }
   ],
   "source": [
    "y_pred_test"
   ]
  },
  {
   "cell_type": "code",
   "execution_count": 392,
   "metadata": {},
   "outputs": [
    {
     "data": {
      "text/plain": [
       "0       47933\n",
       "1       44213\n",
       "2       20823\n",
       "3       40565\n",
       "4        9860\n",
       "        ...  \n",
       "9594    13587\n",
       "9595    33231\n",
       "9596    18614\n",
       "9597    37566\n",
       "9598     6744\n",
       "Name: id, Length: 9599, dtype: int64"
      ]
     },
     "execution_count": 392,
     "metadata": {},
     "output_type": "execute_result"
    }
   ],
   "source": [
    "y_id"
   ]
  },
  {
   "cell_type": "code",
   "execution_count": 393,
   "metadata": {},
   "outputs": [],
   "source": [
    "df_res = pd.DataFrame({'id' : y_id, 'Gaji': y_pred_test}) "
   ]
  },
  {
   "cell_type": "code",
   "execution_count": 394,
   "metadata": {},
   "outputs": [],
   "source": [
    "df_res.to_csv('pred_res.csv', index= False)"
   ]
  },
  {
   "cell_type": "code",
   "execution_count": null,
   "metadata": {},
   "outputs": [],
   "source": []
  }
 ],
 "metadata": {
  "kernelspec": {
   "display_name": "Python 3",
   "language": "python",
   "name": "python3"
  },
  "language_info": {
   "codemirror_mode": {
    "name": "ipython",
    "version": 3
   },
   "file_extension": ".py",
   "mimetype": "text/x-python",
   "name": "python",
   "nbconvert_exporter": "python",
   "pygments_lexer": "ipython3",
   "version": "3.8.2"
  }
 },
 "nbformat": 4,
 "nbformat_minor": 4
}
