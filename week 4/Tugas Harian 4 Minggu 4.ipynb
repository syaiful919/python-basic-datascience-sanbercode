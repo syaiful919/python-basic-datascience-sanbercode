{
 "cells": [
  {
   "cell_type": "markdown",
   "metadata": {},
   "source": [
    "<h1> Quiz 1 Pemahaman tentang Model Selection</h1>\n",
    "\n",
    "Jelaskan dengan bahasa kalian sendiri\n",
    "\n",
    "1. Apa itu Bias dan Variance?\n",
    "2. Apa itu Overfitting dan Underfitting?\n",
    "3. Apa yang bisa kita lakukan untuk mengatur kompleksitas dari model?\n",
    "4. Bagaimana model yang baik?\n",
    "5. Kapan kira2 kita menggunakan GridSearchcv dan kapan menggunakan RandomizedSearchCV?"
   ]
  },
  {
   "cell_type": "markdown",
   "metadata": {},
   "source": [
    "### jawab\n",
    "1. bias dan variance merupakan 2 jenis error yang ada pada model. bias terjadi karena model terlalu simpel sedangkan variance terjadi karena model terlalu kompleks\n",
    "2. Underfit terjadi ketika model terlalu sederhana dan tidak mampu untuk menyesuaikan pola yang terdapat pada data latih (train score & test score rendah) sedangkan Overfitting terjadi ketika model terlalu memiliki prediksi yang sangat baik pada data training, namun prediksinya buruk pada data testing\n",
    "3. hyperparameter tuning\n",
    "4. tidak overfitting maupun underfitting\n",
    "5. tergantung pada jumlah hyperparameter & kekuatan komputasi komputer yang dimiliki"
   ]
  },
  {
   "cell_type": "markdown",
   "metadata": {},
   "source": [
    "<h1> Quiz 2 Praktis Model Selection</h1>\n",
    "\n",
    "1. Bagi kedua data ini menjadi data training dan data test dengan test_size=0.25.\n",
    "2. Gunakan algoritma KNN sebagai model classifier.\n",
    "3. Gunakan fungsi GridSearchCV untuk hyperparameter tuning dan model selection.\n",
    "4. jumlah fold bebas!, gunakan scoring 'roc_auc'\n",
    "5. Definisikan kombinasi hyperparameter untuk model selection dengan GridSearchCV. kombinasi Hyperparameter bebas, baca lagi dokumentasi KNN di link berikut https://scikit-learn.org/stable/modules/generated/sklearn.neighbors.KNeighborsClassifier.html untuk memahami lagi jenis2 hyperparameter di algorithma KNN.\n",
    "6. Latih model terhadap data training.\n",
    "7. Apa hyperparameter terbaik untuk kombinasi hyperparameter kalian?\n",
    "8. Berapa score validasi terbaik dari model tersebut?\n",
    "9. Prediksi probabilitasi output dari model yang telah di buat terhadap data test. note : gunakan method .predict_proba() untuk menghasilkan output probabilitas\n",
    "10. Perhatikan bahwa hasil prediksi ada 2, dimana masing2 adalah nilai probabilitas untuk setiap class label. Ambil nilai probabilitas pasien phositive meninggal dalam waktu kurang dari 5 tahun. note : gunakan bantuan attirubte .classes_ untuk mengetahui urutan label dari hasil prediksi probabilitas.\n",
    "11. Berapa nilai score roc_auc untuk data test?\n",
    "12. Apakah model anda termasuk baik atau overtting atau underfitting?\n",
    "13. Ulangi tahap di atas namun kali ini menggunakan algoritma DecisionTreeClassifier dan kalian bisa menggunakan RandomizedSearchCV apabila process training lama. pelajari algoritma DecisionTreeClassifier di linkberikut : https://scikit-learn.org/stable/modules/generated/sklearn.tree.DecisionTreeClassifier.html?highlight=decisiontreeclassifier#sklearn.tree.DecisionTreeClassifier\n",
    "14. Bandingkan scorenya dengan Algoritma KNN, mana yang lebih baik?\n",
    "\n",
    "Note : Data Science adalah experiment, sangat di dimungkinkan memerlukan beberapa kali percobaan untuk mendapatkan hasil yang terbaik! Happy Coding :)"
   ]
  },
  {
   "cell_type": "code",
   "execution_count": 1,
   "metadata": {},
   "outputs": [],
   "source": [
    "import pandas as pd\n",
    "\n",
    "url = 'https://raw.githubusercontent.com/jbrownlee/Datasets/master/haberman.csv'\n",
    "list_cols = ['Age', \"Patient's Years\", \"N_positive_ax\", \"survival_status\"]\n",
    "df = pd.read_csv(url, names=list_cols)"
   ]
  },
  {
   "cell_type": "code",
   "execution_count": 2,
   "metadata": {},
   "outputs": [
    {
     "data": {
      "text/html": [
       "<div>\n",
       "<style scoped>\n",
       "    .dataframe tbody tr th:only-of-type {\n",
       "        vertical-align: middle;\n",
       "    }\n",
       "\n",
       "    .dataframe tbody tr th {\n",
       "        vertical-align: top;\n",
       "    }\n",
       "\n",
       "    .dataframe thead th {\n",
       "        text-align: right;\n",
       "    }\n",
       "</style>\n",
       "<table border=\"1\" class=\"dataframe\">\n",
       "  <thead>\n",
       "    <tr style=\"text-align: right;\">\n",
       "      <th></th>\n",
       "      <th>Age</th>\n",
       "      <th>Patient's Years</th>\n",
       "      <th>N_positive_ax</th>\n",
       "      <th>survival_status</th>\n",
       "    </tr>\n",
       "  </thead>\n",
       "  <tbody>\n",
       "    <tr>\n",
       "      <th>0</th>\n",
       "      <td>30</td>\n",
       "      <td>64</td>\n",
       "      <td>1</td>\n",
       "      <td>1</td>\n",
       "    </tr>\n",
       "    <tr>\n",
       "      <th>1</th>\n",
       "      <td>30</td>\n",
       "      <td>62</td>\n",
       "      <td>3</td>\n",
       "      <td>1</td>\n",
       "    </tr>\n",
       "    <tr>\n",
       "      <th>2</th>\n",
       "      <td>30</td>\n",
       "      <td>65</td>\n",
       "      <td>0</td>\n",
       "      <td>1</td>\n",
       "    </tr>\n",
       "    <tr>\n",
       "      <th>3</th>\n",
       "      <td>31</td>\n",
       "      <td>59</td>\n",
       "      <td>2</td>\n",
       "      <td>1</td>\n",
       "    </tr>\n",
       "    <tr>\n",
       "      <th>4</th>\n",
       "      <td>31</td>\n",
       "      <td>65</td>\n",
       "      <td>4</td>\n",
       "      <td>1</td>\n",
       "    </tr>\n",
       "  </tbody>\n",
       "</table>\n",
       "</div>"
      ],
      "text/plain": [
       "   Age  Patient's Years  N_positive_ax  survival_status\n",
       "0   30               64              1                1\n",
       "1   30               62              3                1\n",
       "2   30               65              0                1\n",
       "3   31               59              2                1\n",
       "4   31               65              4                1"
      ]
     },
     "execution_count": 2,
     "metadata": {},
     "output_type": "execute_result"
    }
   ],
   "source": [
    "df.head()"
   ]
  },
  {
   "cell_type": "code",
   "execution_count": 4,
   "metadata": {},
   "outputs": [
    {
     "data": {
      "text/plain": [
       "1    225\n",
       "2     81\n",
       "Name: survival_status, dtype: int64"
      ]
     },
     "execution_count": 4,
     "metadata": {},
     "output_type": "execute_result"
    }
   ],
   "source": [
    "df['survival_status'].value_counts()"
   ]
  },
  {
   "cell_type": "code",
   "execution_count": 9,
   "metadata": {},
   "outputs": [],
   "source": [
    "# 1 \n",
    "from sklearn.model_selection import train_test_split\n",
    "\n",
    "X = df.drop('survival_status', axis= 1)\n",
    "y = df['survival_status']\n",
    "\n",
    "X_train, X_test, y_train, y_test = train_test_split(X, y, test_size= 0.25, random_state= 21, stratify= y)"
   ]
  },
  {
   "cell_type": "code",
   "execution_count": 10,
   "metadata": {},
   "outputs": [
    {
     "data": {
      "text/plain": [
       "GridSearchCV(cv=10, error_score=nan,\n",
       "             estimator=KNeighborsClassifier(algorithm='auto', leaf_size=30,\n",
       "                                            metric='minkowski',\n",
       "                                            metric_params=None, n_jobs=None,\n",
       "                                            n_neighbors=5, p=2,\n",
       "                                            weights='uniform'),\n",
       "             iid='deprecated', n_jobs=None,\n",
       "             param_grid={'n_neighbors': array([ 5,  6,  7,  8,  9, 10, 11, 12, 13, 14, 15, 16, 17, 18, 19, 20, 21,\n",
       "       22, 23, 24, 25, 26, 27, 28, 29]),\n",
       "                         'weights': ['uniform', 'distance']},\n",
       "             pre_dispatch='2*n_jobs', refit=True, return_train_score=False,\n",
       "             scoring='roc_auc', verbose=0)"
      ]
     },
     "execution_count": 10,
     "metadata": {},
     "output_type": "execute_result"
    }
   ],
   "source": [
    "# 2 - 6\n",
    "import numpy as np\n",
    "from sklearn.neighbors import KNeighborsClassifier\n",
    "from sklearn.model_selection import GridSearchCV\n",
    "\n",
    "model_knn = KNeighborsClassifier()\n",
    "param_grid = {\n",
    "    'n_neighbors': np.arange(5, 30),\n",
    "    'weights': ['uniform', 'distance']\n",
    "}\n",
    "gscv = GridSearchCV(model_knn, param_grid, cv=10, scoring= 'roc_auc')\n",
    "gscv.fit(X_train, y_train)"
   ]
  },
  {
   "cell_type": "code",
   "execution_count": 11,
   "metadata": {},
   "outputs": [
    {
     "data": {
      "text/plain": [
       "{'n_neighbors': 8, 'weights': 'distance'}"
      ]
     },
     "execution_count": 11,
     "metadata": {},
     "output_type": "execute_result"
    }
   ],
   "source": [
    "# 7\n",
    "gscv.best_params_"
   ]
  },
  {
   "cell_type": "code",
   "execution_count": 12,
   "metadata": {},
   "outputs": [
    {
     "data": {
      "text/plain": [
       "0.7094012605042017"
      ]
     },
     "execution_count": 12,
     "metadata": {},
     "output_type": "execute_result"
    }
   ],
   "source": [
    "# 8\n",
    "gscv.best_score_"
   ]
  },
  {
   "cell_type": "code",
   "execution_count": 13,
   "metadata": {},
   "outputs": [],
   "source": [
    "# 9\n",
    "y_pred_prob = gscv.predict_proba(X_test)"
   ]
  },
  {
   "cell_type": "code",
   "execution_count": 16,
   "metadata": {},
   "outputs": [
    {
     "data": {
      "text/plain": [
       "array([[0.8396757 , 0.1603243 ],\n",
       "       [0.79116585, 0.20883415],\n",
       "       [0.63461558, 0.36538442],\n",
       "       [0.        , 1.        ],\n",
       "       [0.67722631, 0.32277369],\n",
       "       [1.        , 0.        ],\n",
       "       [0.53363999, 0.46636001],\n",
       "       [0.72937691, 0.27062309],\n",
       "       [0.85437329, 0.14562671],\n",
       "       [0.67722631, 0.32277369],\n",
       "       [0.        , 1.        ],\n",
       "       [1.        , 0.        ],\n",
       "       [0.72819477, 0.27180523],\n",
       "       [1.        , 0.        ],\n",
       "       [0.84156107, 0.15843893],\n",
       "       [0.64093838, 0.35906162],\n",
       "       [0.85534297, 0.14465703],\n",
       "       [0.68644891, 0.31355109],\n",
       "       [1.        , 0.        ],\n",
       "       [0.46625569, 0.53374431],\n",
       "       [0.55174594, 0.44825406],\n",
       "       [0.84156107, 0.15843893],\n",
       "       [1.        , 0.        ],\n",
       "       [0.34594814, 0.65405186],\n",
       "       [1.        , 0.        ],\n",
       "       [1.        , 0.        ],\n",
       "       [0.6520165 , 0.3479835 ],\n",
       "       [0.58875063, 0.41124937],\n",
       "       [0.54027675, 0.45972325],\n",
       "       [0.75282578, 0.24717422],\n",
       "       [1.        , 0.        ],\n",
       "       [0.        , 1.        ],\n",
       "       [0.76076782, 0.23923218],\n",
       "       [0.90910942, 0.09089058],\n",
       "       [0.26511741, 0.73488259],\n",
       "       [0.77557991, 0.22442009],\n",
       "       [0.87739809, 0.12260191],\n",
       "       [0.89572884, 0.10427116],\n",
       "       [0.56623823, 0.43376177],\n",
       "       [0.77892892, 0.22107108],\n",
       "       [0.50948979, 0.49051021],\n",
       "       [0.5582415 , 0.4417585 ],\n",
       "       [0.72044666, 0.27955334],\n",
       "       [0.5381423 , 0.4618577 ],\n",
       "       [0.86184105, 0.13815895],\n",
       "       [1.        , 0.        ],\n",
       "       [1.        , 0.        ],\n",
       "       [0.91111684, 0.08888316],\n",
       "       [0.86569458, 0.13430542],\n",
       "       [0.11893548, 0.88106452],\n",
       "       [0.72265878, 0.27734122],\n",
       "       [0.48840625, 0.51159375],\n",
       "       [0.5347864 , 0.4652136 ],\n",
       "       [0.88753855, 0.11246145],\n",
       "       [0.50777713, 0.49222287],\n",
       "       [1.        , 0.        ],\n",
       "       [0.80746967, 0.19253033],\n",
       "       [0.60703083, 0.39296917],\n",
       "       [1.        , 0.        ],\n",
       "       [0.11216951, 0.88783049],\n",
       "       [0.60425151, 0.39574849],\n",
       "       [0.74679378, 0.25320622],\n",
       "       [0.87829342, 0.12170658],\n",
       "       [1.        , 0.        ],\n",
       "       [0.73821865, 0.26178135],\n",
       "       [0.86302949, 0.13697051],\n",
       "       [0.65526703, 0.34473297],\n",
       "       [0.88552339, 0.11447661],\n",
       "       [0.36667465, 0.63332535],\n",
       "       [1.        , 0.        ],\n",
       "       [0.34200251, 0.65799749],\n",
       "       [0.736668  , 0.263332  ],\n",
       "       [1.        , 0.        ],\n",
       "       [0.13275718, 0.86724282],\n",
       "       [0.73538454, 0.26461546],\n",
       "       [0.91073193, 0.08926807],\n",
       "       [0.31169954, 0.68830046]])"
      ]
     },
     "execution_count": 16,
     "metadata": {},
     "output_type": "execute_result"
    }
   ],
   "source": [
    "y_pred_prob"
   ]
  },
  {
   "cell_type": "code",
   "execution_count": 15,
   "metadata": {},
   "outputs": [
    {
     "data": {
      "text/plain": [
       "array([1, 2], dtype=int64)"
      ]
     },
     "execution_count": 15,
     "metadata": {},
     "output_type": "execute_result"
    }
   ],
   "source": [
    "gscv.classes_"
   ]
  },
  {
   "cell_type": "code",
   "execution_count": 18,
   "metadata": {},
   "outputs": [
    {
     "data": {
      "text/plain": [
       "array([0.1603243 , 0.20883415, 0.36538442, 1.        , 0.32277369,\n",
       "       0.        , 0.46636001, 0.27062309, 0.14562671, 0.32277369,\n",
       "       1.        , 0.        , 0.27180523, 0.        , 0.15843893,\n",
       "       0.35906162, 0.14465703, 0.31355109, 0.        , 0.53374431,\n",
       "       0.44825406, 0.15843893, 0.        , 0.65405186, 0.        ,\n",
       "       0.        , 0.3479835 , 0.41124937, 0.45972325, 0.24717422,\n",
       "       0.        , 1.        , 0.23923218, 0.09089058, 0.73488259,\n",
       "       0.22442009, 0.12260191, 0.10427116, 0.43376177, 0.22107108,\n",
       "       0.49051021, 0.4417585 , 0.27955334, 0.4618577 , 0.13815895,\n",
       "       0.        , 0.        , 0.08888316, 0.13430542, 0.88106452,\n",
       "       0.27734122, 0.51159375, 0.4652136 , 0.11246145, 0.49222287,\n",
       "       0.        , 0.19253033, 0.39296917, 0.        , 0.88783049,\n",
       "       0.39574849, 0.25320622, 0.12170658, 0.        , 0.26178135,\n",
       "       0.13697051, 0.34473297, 0.11447661, 0.63332535, 0.        ,\n",
       "       0.65799749, 0.263332  , 0.        , 0.86724282, 0.26461546,\n",
       "       0.08926807, 0.68830046])"
      ]
     },
     "execution_count": 18,
     "metadata": {},
     "output_type": "execute_result"
    }
   ],
   "source": [
    "# 10\n",
    "y_pos_pred = y_pred_prob[:, 1]\n",
    "y_pos_pred"
   ]
  },
  {
   "cell_type": "code",
   "execution_count": 19,
   "metadata": {},
   "outputs": [
    {
     "data": {
      "text/plain": [
       "0.6166666666666667"
      ]
     },
     "execution_count": 19,
     "metadata": {},
     "output_type": "execute_result"
    }
   ],
   "source": [
    "# 11\n",
    "from sklearn.metrics import roc_auc_score\n",
    "\n",
    "roc_auc_score(y_test, y_pos_pred)"
   ]
  },
  {
   "cell_type": "code",
   "execution_count": null,
   "metadata": {},
   "outputs": [],
   "source": [
    "# 12 model overfitting"
   ]
  },
  {
   "cell_type": "code",
   "execution_count": 22,
   "metadata": {},
   "outputs": [
    {
     "data": {
      "text/plain": [
       "RandomizedSearchCV(cv=10, error_score=nan,\n",
       "                   estimator=DecisionTreeClassifier(ccp_alpha=0.0,\n",
       "                                                    class_weight=None,\n",
       "                                                    criterion='gini',\n",
       "                                                    max_depth=None,\n",
       "                                                    max_features=None,\n",
       "                                                    max_leaf_nodes=None,\n",
       "                                                    min_impurity_decrease=0.0,\n",
       "                                                    min_impurity_split=None,\n",
       "                                                    min_samples_leaf=1,\n",
       "                                                    min_samples_split=2,\n",
       "                                                    min_weight_fraction_leaf=0.0,\n",
       "                                                    presort='deprecated',\n",
       "                                                    random_state=None,\n",
       "                                                    splitter='best'),...\n",
       "                                                         {1: 0.6, 2: 0.4},\n",
       "                                                         {1: 0.7000000000000001,\n",
       "                                                          2: 0.29999999999999993},\n",
       "                                                         {1: 0.8,\n",
       "                                                          2: 0.19999999999999996},\n",
       "                                                         {1: 0.9,\n",
       "                                                          2: 0.09999999999999998}],\n",
       "                                        'criterion': ['gini', 'entropy'],\n",
       "                                        'max_depth': array([1, 2]),\n",
       "                                        'max_features': array([1, 2]),\n",
       "                                        'min_samples_split': array([ 2, 22, 42, 62, 82])},\n",
       "                   pre_dispatch='2*n_jobs', random_state=None, refit=True,\n",
       "                   return_train_score=False, scoring='roc_auc', verbose=0)"
      ]
     },
     "execution_count": 22,
     "metadata": {},
     "output_type": "execute_result"
    }
   ],
   "source": [
    "# 13 \n",
    "from sklearn.tree import DecisionTreeClassifier\n",
    "from sklearn.model_selection import RandomizedSearchCV\n",
    "\n",
    "model_dt = DecisionTreeClassifier()\n",
    "param_grid = {\n",
    "    'criterion': ['gini', 'entropy'],\n",
    "    'max_depth': np.arange(1,3),\n",
    "    'min_samples_split': np.arange(2, 100, 20),\n",
    "    'max_features': np.arange(1, 3),\n",
    "    'class_weight': [{1: x, 2: 1-x} for x in np.arange(0.1, 0.99, 0.1)]\n",
    "}\n",
    "\n",
    "rscv = RandomizedSearchCV(model_dt, param_grid, cv= 10, scoring='roc_auc', n_iter=50)\n",
    "rscv.fit(X_train, y_train)"
   ]
  },
  {
   "cell_type": "code",
   "execution_count": 24,
   "metadata": {},
   "outputs": [
    {
     "data": {
      "text/plain": [
       "0.6746586134453783"
      ]
     },
     "execution_count": 24,
     "metadata": {},
     "output_type": "execute_result"
    }
   ],
   "source": [
    "rscv.best_score_"
   ]
  },
  {
   "cell_type": "code",
   "execution_count": 25,
   "metadata": {},
   "outputs": [
    {
     "data": {
      "text/plain": [
       "{'min_samples_split': 42,\n",
       " 'max_features': 2,\n",
       " 'max_depth': 2,\n",
       " 'criterion': 'gini',\n",
       " 'class_weight': {1: 0.2, 2: 0.8}}"
      ]
     },
     "execution_count": 25,
     "metadata": {},
     "output_type": "execute_result"
    }
   ],
   "source": [
    "rscv.best_params_"
   ]
  },
  {
   "cell_type": "code",
   "execution_count": null,
   "metadata": {},
   "outputs": [],
   "source": [
    "y_pos_pred = rscv.predict_proba(X_test)[:,1]"
   ]
  }
 ],
 "metadata": {
  "kernelspec": {
   "display_name": "Python 3",
   "language": "python",
   "name": "python3"
  },
  "language_info": {
   "codemirror_mode": {
    "name": "ipython",
    "version": 3
   },
   "file_extension": ".py",
   "mimetype": "text/x-python",
   "name": "python",
   "nbconvert_exporter": "python",
   "pygments_lexer": "ipython3",
   "version": "3.8.2"
  }
 },
 "nbformat": 4,
 "nbformat_minor": 4
}
