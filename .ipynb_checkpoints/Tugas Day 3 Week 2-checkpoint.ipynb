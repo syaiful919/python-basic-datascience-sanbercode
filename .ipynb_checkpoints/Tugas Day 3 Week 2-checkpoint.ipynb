{
 "cells": [
  {
   "cell_type": "markdown",
   "metadata": {
    "colab_type": "text",
    "id": "0kQhZ-5bKrxR"
   },
   "source": [
    "<h2>Quiz 1 : Pivoting and Melting</h2>\n",
    "\n",
    "Jelaskan itu pivoting dan melting data"
   ]
  },
  {
   "cell_type": "markdown",
   "metadata": {
    "colab_type": "text",
    "id": "O7OpqeB9KrxX"
   },
   "source": [
    "jawaban :\n",
    "- Pivoting merupakan perubahan bentuk data, dimana data yang awalnya terletak di row, diputar menjadi column\n",
    "- Melting merupakan kebalikan dari pivoting. Melting mengubah data yang awalnya berada di column menjadi row"
   ]
  },
  {
   "cell_type": "markdown",
   "metadata": {
    "colab_type": "text",
    "id": "jImnOOlTKrxa"
   },
   "source": [
    "<h2>Quiz 2 : Data structure Comprehension</h2>\n",
    "\n",
    "Data yang rapi adalah :\n",
    "1. Setiap row menunjukan suatu unit observasi\n",
    "2. Setiap column merupakan suatu unit variable\n",
    "\n",
    "Bagaimana pun, dalam menentukan unit observasi itu tergantung dari kasus yang di hadapi. sebagai seorang data scientist pasti akan menemukan berbagai bentuk struktur data. adalah sangat penting bagi seorang data scientist untuk dapat memahami dan menjelaskan setiap struktur data. Kemampuan memahami hubungan antara index baris, column dan isi data adalah kunci untuk memahami informasi apa yang data sedang beritahukan kepada kita.\n",
    "\n",
    "Di bawah ini terdapat 2 data yang berisi sama, tetapi memiliki struktur yang berbeda. Jelaskan perbedaan dari 2 struktur data tersebut"
   ]
  },
  {
   "cell_type": "markdown",
   "metadata": {
    "colab_type": "text",
    "id": "HYtZqGxLKrxc"
   },
   "source": [
    "![alt text](https://drive.google.com/uc?id=1h13CDPzIjc-2XyRcyu-p1fet0Ep1gdMA)"
   ]
  },
  {
   "cell_type": "markdown",
   "metadata": {
    "colab_type": "text",
    "id": "nn4EuLbnKrxf"
   },
   "source": [
    "![alt text](https://drive.google.com/uc?id=12ji98ell5tNcCxeBzl4v8qqBtFMgDSr0)"
   ]
  },
  {
   "cell_type": "markdown",
   "metadata": {
    "colab_type": "text",
    "id": "_fixNOUAKrxh"
   },
   "source": [
    "jawab:\n",
    "Struktur data yang tepat dapat memudahkan kita untuk menggali informasi yang kita cari. Pada data pertama, strukturnya 'lebar'. Karena pada row-nya tidak ada duplikasi, kita dapat mengetahui secara langsung nilai rata-rata waktu belajar setiap mata pelajaran untuk setiap tipe ujian. Sedangkan untuk data yang kedua, strukturnya 'panjang', pada struktur ini, row-nya lebih banyak karena disajikan poin per poin"
   ]
  },
  {
   "cell_type": "markdown",
   "metadata": {
    "colab_type": "text",
    "id": "Vxig2IeYKrxj"
   },
   "source": [
    "<h2>Quiz 3 : Reshaping Data 1</h2>"
   ]
  },
  {
   "cell_type": "code",
   "execution_count": 9,
   "metadata": {
    "colab": {},
    "colab_type": "code",
    "id": "4Jp7bLWNKrxl",
    "outputId": "8d4a7776-1464-4de3-f18b-3a6c79c65800"
   },
   "outputs": [
    {
     "data": {
      "text/html": [
       "<div>\n",
       "<style scoped>\n",
       "    .dataframe tbody tr th:only-of-type {\n",
       "        vertical-align: middle;\n",
       "    }\n",
       "\n",
       "    .dataframe tbody tr th {\n",
       "        vertical-align: top;\n",
       "    }\n",
       "\n",
       "    .dataframe thead th {\n",
       "        text-align: right;\n",
       "    }\n",
       "</style>\n",
       "<table border=\"1\" class=\"dataframe\">\n",
       "  <thead>\n",
       "    <tr style=\"text-align: right;\">\n",
       "      <th></th>\n",
       "      <th>Tipe Ujian</th>\n",
       "      <th>Mata Pelajaran</th>\n",
       "      <th>Rata2 Waktu Belajar (menit)</th>\n",
       "      <th>Rata2 Nilai Ujian</th>\n",
       "    </tr>\n",
       "  </thead>\n",
       "  <tbody>\n",
       "    <tr>\n",
       "      <th>0</th>\n",
       "      <td>UTS1</td>\n",
       "      <td>Fisika</td>\n",
       "      <td>218</td>\n",
       "      <td>96</td>\n",
       "    </tr>\n",
       "    <tr>\n",
       "      <th>1</th>\n",
       "      <td>UAS1</td>\n",
       "      <td>Fisika</td>\n",
       "      <td>551</td>\n",
       "      <td>48</td>\n",
       "    </tr>\n",
       "    <tr>\n",
       "      <th>2</th>\n",
       "      <td>UTS2</td>\n",
       "      <td>Fisika</td>\n",
       "      <td>287</td>\n",
       "      <td>67</td>\n",
       "    </tr>\n",
       "    <tr>\n",
       "      <th>3</th>\n",
       "      <td>UAS2</td>\n",
       "      <td>Fisika</td>\n",
       "      <td>564</td>\n",
       "      <td>91</td>\n",
       "    </tr>\n",
       "    <tr>\n",
       "      <th>4</th>\n",
       "      <td>UTS1</td>\n",
       "      <td>Matematika</td>\n",
       "      <td>780</td>\n",
       "      <td>85</td>\n",
       "    </tr>\n",
       "    <tr>\n",
       "      <th>5</th>\n",
       "      <td>UAS1</td>\n",
       "      <td>Matematika</td>\n",
       "      <td>258</td>\n",
       "      <td>99</td>\n",
       "    </tr>\n",
       "    <tr>\n",
       "      <th>6</th>\n",
       "      <td>UTS2</td>\n",
       "      <td>Matematika</td>\n",
       "      <td>205</td>\n",
       "      <td>40</td>\n",
       "    </tr>\n",
       "    <tr>\n",
       "      <th>7</th>\n",
       "      <td>UAS2</td>\n",
       "      <td>Matematika</td>\n",
       "      <td>593</td>\n",
       "      <td>42</td>\n",
       "    </tr>\n",
       "    <tr>\n",
       "      <th>8</th>\n",
       "      <td>UTS1</td>\n",
       "      <td>Statistika</td>\n",
       "      <td>350</td>\n",
       "      <td>91</td>\n",
       "    </tr>\n",
       "    <tr>\n",
       "      <th>9</th>\n",
       "      <td>UAS1</td>\n",
       "      <td>Statistika</td>\n",
       "      <td>408</td>\n",
       "      <td>91</td>\n",
       "    </tr>\n",
       "    <tr>\n",
       "      <th>10</th>\n",
       "      <td>UTS2</td>\n",
       "      <td>Statistika</td>\n",
       "      <td>337</td>\n",
       "      <td>41</td>\n",
       "    </tr>\n",
       "    <tr>\n",
       "      <th>11</th>\n",
       "      <td>UAS2</td>\n",
       "      <td>Statistika</td>\n",
       "      <td>693</td>\n",
       "      <td>88</td>\n",
       "    </tr>\n",
       "  </tbody>\n",
       "</table>\n",
       "</div>"
      ],
      "text/plain": [
       "   Tipe Ujian Mata Pelajaran  Rata2 Waktu Belajar (menit)  Rata2 Nilai Ujian\n",
       "0        UTS1         Fisika                          218                 96\n",
       "1        UAS1         Fisika                          551                 48\n",
       "2        UTS2         Fisika                          287                 67\n",
       "3        UAS2         Fisika                          564                 91\n",
       "4        UTS1     Matematika                          780                 85\n",
       "5        UAS1     Matematika                          258                 99\n",
       "6        UTS2     Matematika                          205                 40\n",
       "7        UAS2     Matematika                          593                 42\n",
       "8        UTS1     Statistika                          350                 91\n",
       "9        UAS1     Statistika                          408                 91\n",
       "10       UTS2     Statistika                          337                 41\n",
       "11       UAS2     Statistika                          693                 88"
      ]
     },
     "execution_count": 9,
     "metadata": {},
     "output_type": "execute_result"
    }
   ],
   "source": [
    "import pandas as pd\n",
    "import random\n",
    "\n",
    "data = {\n",
    "    'Tipe Ujian' : ['UTS1', 'UAS1', 'UTS2', 'UAS2']*3,\n",
    "    'Mata Pelajaran' : ['Fisika']*4 + ['Matematika']*4+['Statistika']*4,\n",
    "    'Rata2 Waktu Belajar (menit)' : [random.choice(range(200, 800)) for i in range(12)],\n",
    "    'Rata2 Nilai Ujian' : [random.choice(range(40, 100)) for i in range(12)] \n",
    "}\n",
    "df = pd.DataFrame(data)\n",
    "df"
   ]
  },
  {
   "cell_type": "markdown",
   "metadata": {
    "colab_type": "text",
    "id": "G3yKJFwTKrx8"
   },
   "source": [
    "Perhatikan data di atas, kemudian ubahlah bentuknya agar sesuai yang di harapkan."
   ]
  },
  {
   "cell_type": "code",
   "execution_count": 12,
   "metadata": {
    "colab": {},
    "colab_type": "code",
    "id": "ztFDyKDYKrx-"
   },
   "outputs": [
    {
     "data": {
      "text/html": [
       "<div>\n",
       "<style scoped>\n",
       "    .dataframe tbody tr th:only-of-type {\n",
       "        vertical-align: middle;\n",
       "    }\n",
       "\n",
       "    .dataframe tbody tr th {\n",
       "        vertical-align: top;\n",
       "    }\n",
       "\n",
       "    .dataframe thead tr th {\n",
       "        text-align: left;\n",
       "    }\n",
       "\n",
       "    .dataframe thead tr:last-of-type th {\n",
       "        text-align: right;\n",
       "    }\n",
       "</style>\n",
       "<table border=\"1\" class=\"dataframe\">\n",
       "  <thead>\n",
       "    <tr>\n",
       "      <th></th>\n",
       "      <th colspan=\"3\" halign=\"left\">Rata2 Nilai Ujian</th>\n",
       "      <th colspan=\"3\" halign=\"left\">Rata2 Waktu Belajar (menit)</th>\n",
       "    </tr>\n",
       "    <tr>\n",
       "      <th>Mata Pelajaran</th>\n",
       "      <th>Fisika</th>\n",
       "      <th>Matematika</th>\n",
       "      <th>Statistika</th>\n",
       "      <th>Fisika</th>\n",
       "      <th>Matematika</th>\n",
       "      <th>Statistika</th>\n",
       "    </tr>\n",
       "    <tr>\n",
       "      <th>Tipe Ujian</th>\n",
       "      <th></th>\n",
       "      <th></th>\n",
       "      <th></th>\n",
       "      <th></th>\n",
       "      <th></th>\n",
       "      <th></th>\n",
       "    </tr>\n",
       "  </thead>\n",
       "  <tbody>\n",
       "    <tr>\n",
       "      <th>UAS1</th>\n",
       "      <td>48</td>\n",
       "      <td>99</td>\n",
       "      <td>91</td>\n",
       "      <td>551</td>\n",
       "      <td>258</td>\n",
       "      <td>408</td>\n",
       "    </tr>\n",
       "    <tr>\n",
       "      <th>UAS2</th>\n",
       "      <td>91</td>\n",
       "      <td>42</td>\n",
       "      <td>88</td>\n",
       "      <td>564</td>\n",
       "      <td>593</td>\n",
       "      <td>693</td>\n",
       "    </tr>\n",
       "    <tr>\n",
       "      <th>UTS1</th>\n",
       "      <td>96</td>\n",
       "      <td>85</td>\n",
       "      <td>91</td>\n",
       "      <td>218</td>\n",
       "      <td>780</td>\n",
       "      <td>350</td>\n",
       "    </tr>\n",
       "    <tr>\n",
       "      <th>UTS2</th>\n",
       "      <td>67</td>\n",
       "      <td>40</td>\n",
       "      <td>41</td>\n",
       "      <td>287</td>\n",
       "      <td>205</td>\n",
       "      <td>337</td>\n",
       "    </tr>\n",
       "  </tbody>\n",
       "</table>\n",
       "</div>"
      ],
      "text/plain": [
       "               Rata2 Nilai Ujian                        \\\n",
       "Mata Pelajaran            Fisika Matematika Statistika   \n",
       "Tipe Ujian                                               \n",
       "UAS1                          48         99         91   \n",
       "UAS2                          91         42         88   \n",
       "UTS1                          96         85         91   \n",
       "UTS2                          67         40         41   \n",
       "\n",
       "               Rata2 Waktu Belajar (menit)                        \n",
       "Mata Pelajaran                      Fisika Matematika Statistika  \n",
       "Tipe Ujian                                                        \n",
       "UAS1                                   551        258        408  \n",
       "UAS2                                   564        593        693  \n",
       "UTS1                                   218        780        350  \n",
       "UTS2                                   287        205        337  "
      ]
     },
     "execution_count": 12,
     "metadata": {},
     "output_type": "execute_result"
    }
   ],
   "source": [
    "# code here\n",
    "pr = df.pivot_table(index='Tipe Ujian', columns='Mata Pelajaran', values=['Rata2 Waktu Belajar (menit)', 'Rata2 Nilai Ujian'])\n",
    "pr"
   ]
  },
  {
   "cell_type": "markdown",
   "metadata": {
    "colab_type": "text",
    "id": "xA8ZlQErKryO"
   },
   "source": [
    "Expected Result :\n",
    "\n",
    "![alt text](https://drive.google.com/uc?id=1XufsfqZe7-XZLsb92SpATexy-QRZE0ow)"
   ]
  },
  {
   "cell_type": "markdown",
   "metadata": {
    "colab_type": "text",
    "id": "pXb8LRDWKryQ"
   },
   "source": [
    "<h2>Quiz 4 : Reshaping Data 2</h2>"
   ]
  },
  {
   "cell_type": "code",
   "execution_count": 62,
   "metadata": {
    "colab": {},
    "colab_type": "code",
    "id": "LHe2XZyNKryS",
    "outputId": "74fd1590-9eb9-4a84-c1f5-a33a0379a7ee"
   },
   "outputs": [
    {
     "data": {
      "text/html": [
       "<div>\n",
       "<style scoped>\n",
       "    .dataframe tbody tr th:only-of-type {\n",
       "        vertical-align: middle;\n",
       "    }\n",
       "\n",
       "    .dataframe tbody tr th {\n",
       "        vertical-align: top;\n",
       "    }\n",
       "\n",
       "    .dataframe thead th {\n",
       "        text-align: right;\n",
       "    }\n",
       "</style>\n",
       "<table border=\"1\" class=\"dataframe\">\n",
       "  <thead>\n",
       "    <tr style=\"text-align: right;\">\n",
       "      <th></th>\n",
       "      <th>Kebun Binatang</th>\n",
       "      <th>Dufan</th>\n",
       "      <th>Disney</th>\n",
       "      <th>Bali</th>\n",
       "    </tr>\n",
       "    <tr>\n",
       "      <th>Hari</th>\n",
       "      <th></th>\n",
       "      <th></th>\n",
       "      <th></th>\n",
       "      <th></th>\n",
       "    </tr>\n",
       "  </thead>\n",
       "  <tbody>\n",
       "    <tr>\n",
       "      <th>Sabtu</th>\n",
       "      <td>271</td>\n",
       "      <td>501</td>\n",
       "      <td>1000</td>\n",
       "      <td>900</td>\n",
       "    </tr>\n",
       "    <tr>\n",
       "      <th>Minggu</th>\n",
       "      <td>399</td>\n",
       "      <td>700</td>\n",
       "      <td>1001</td>\n",
       "      <td>803</td>\n",
       "    </tr>\n",
       "  </tbody>\n",
       "</table>\n",
       "</div>"
      ],
      "text/plain": [
       "        Kebun Binatang  Dufan  Disney  Bali\n",
       "Hari                                       \n",
       "Sabtu              271    501    1000   900\n",
       "Minggu             399    700    1001   803"
      ]
     },
     "execution_count": 62,
     "metadata": {},
     "output_type": "execute_result"
    }
   ],
   "source": [
    "import pandas as pd\n",
    "\n",
    "data = {\n",
    "    'Hari' : ['Sabtu', 'Minggu'],\n",
    "    'Kebun Binatang' : [271, 399],\n",
    "    'Dufan' : [501, 700],\n",
    "    'Disney' : [1000, 1001],\n",
    "    'Bali' : [900, 803]\n",
    "}\n",
    "df = pd.DataFrame(data).set_index('Hari')\n",
    "df"
   ]
  },
  {
   "cell_type": "markdown",
   "metadata": {
    "colab_type": "text",
    "id": "w87S4Xl_Kryg"
   },
   "source": [
    "diatas adalah data tentang jumlah pengunjung di berbagai tempat hiburan, ubahlah struktur data tersebut sehingga sesuai dengan hasil yang diharapkan."
   ]
  },
  {
   "cell_type": "markdown",
   "metadata": {
    "colab_type": "text",
    "id": "d7_5dDsRKryi"
   },
   "source": [
    "Expected Result :\n",
    "\n",
    "![alt text](https://drive.google.com/uc?id=159mIqcyfeD30EEcyZmmkovORa6cZDLtn)"
   ]
  },
  {
   "cell_type": "code",
   "execution_count": 65,
   "metadata": {},
   "outputs": [
    {
     "data": {
      "text/html": [
       "<div>\n",
       "<style scoped>\n",
       "    .dataframe tbody tr th:only-of-type {\n",
       "        vertical-align: middle;\n",
       "    }\n",
       "\n",
       "    .dataframe tbody tr th {\n",
       "        vertical-align: top;\n",
       "    }\n",
       "\n",
       "    .dataframe thead th {\n",
       "        text-align: right;\n",
       "    }\n",
       "</style>\n",
       "<table border=\"1\" class=\"dataframe\">\n",
       "  <thead>\n",
       "    <tr style=\"text-align: right;\">\n",
       "      <th></th>\n",
       "      <th>Hari</th>\n",
       "      <th>Tempat Hiburan</th>\n",
       "      <th>Pengunjung</th>\n",
       "    </tr>\n",
       "  </thead>\n",
       "  <tbody>\n",
       "    <tr>\n",
       "      <th>0</th>\n",
       "      <td>Sabtu</td>\n",
       "      <td>Kebun Binatang</td>\n",
       "      <td>271</td>\n",
       "    </tr>\n",
       "    <tr>\n",
       "      <th>1</th>\n",
       "      <td>Minggu</td>\n",
       "      <td>Kebun Binatang</td>\n",
       "      <td>399</td>\n",
       "    </tr>\n",
       "    <tr>\n",
       "      <th>2</th>\n",
       "      <td>Sabtu</td>\n",
       "      <td>Dufan</td>\n",
       "      <td>501</td>\n",
       "    </tr>\n",
       "    <tr>\n",
       "      <th>3</th>\n",
       "      <td>Minggu</td>\n",
       "      <td>Dufan</td>\n",
       "      <td>700</td>\n",
       "    </tr>\n",
       "    <tr>\n",
       "      <th>4</th>\n",
       "      <td>Sabtu</td>\n",
       "      <td>Disney</td>\n",
       "      <td>1000</td>\n",
       "    </tr>\n",
       "    <tr>\n",
       "      <th>5</th>\n",
       "      <td>Minggu</td>\n",
       "      <td>Disney</td>\n",
       "      <td>1001</td>\n",
       "    </tr>\n",
       "    <tr>\n",
       "      <th>6</th>\n",
       "      <td>Sabtu</td>\n",
       "      <td>Bali</td>\n",
       "      <td>900</td>\n",
       "    </tr>\n",
       "    <tr>\n",
       "      <th>7</th>\n",
       "      <td>Minggu</td>\n",
       "      <td>Bali</td>\n",
       "      <td>803</td>\n",
       "    </tr>\n",
       "  </tbody>\n",
       "</table>\n",
       "</div>"
      ],
      "text/plain": [
       "     Hari  Tempat Hiburan  Pengunjung\n",
       "0   Sabtu  Kebun Binatang         271\n",
       "1  Minggu  Kebun Binatang         399\n",
       "2   Sabtu           Dufan         501\n",
       "3  Minggu           Dufan         700\n",
       "4   Sabtu          Disney        1000\n",
       "5  Minggu          Disney        1001\n",
       "6   Sabtu            Bali         900\n",
       "7  Minggu            Bali         803"
      ]
     },
     "execution_count": 65,
     "metadata": {},
     "output_type": "execute_result"
    }
   ],
   "source": [
    "df = df.reset_index()\n",
    "mr = pd.melt(df, id_vars=['Hari'], value_vars=['Kebun Binatang', 'Dufan', 'Disney', 'Bali'], var_name='Tempat Hiburan', value_name='Pengunjung')\n",
    "mr"
   ]
  },
  {
   "cell_type": "markdown",
   "metadata": {
    "colab_type": "text",
    "id": "GGHgeYkEKryk"
   },
   "source": [
    "<h2>Quiz 5 : Pivoting and Aggregating</h2>"
   ]
  },
  {
   "cell_type": "code",
   "execution_count": 2,
   "metadata": {
    "colab": {},
    "colab_type": "code",
    "id": "iKMM155KKryn",
    "outputId": "19a22476-9193-4a03-d93f-aa7aa58f5bcd"
   },
   "outputs": [
    {
     "data": {
      "text/html": [
       "<div>\n",
       "<style scoped>\n",
       "    .dataframe tbody tr th:only-of-type {\n",
       "        vertical-align: middle;\n",
       "    }\n",
       "\n",
       "    .dataframe tbody tr th {\n",
       "        vertical-align: top;\n",
       "    }\n",
       "\n",
       "    .dataframe thead th {\n",
       "        text-align: right;\n",
       "    }\n",
       "</style>\n",
       "<table border=\"1\" class=\"dataframe\">\n",
       "  <thead>\n",
       "    <tr style=\"text-align: right;\">\n",
       "      <th></th>\n",
       "      <th>Mata Pelajaran</th>\n",
       "      <th>Jumlah Peserta</th>\n",
       "    </tr>\n",
       "    <tr>\n",
       "      <th>Tipe Ujian</th>\n",
       "      <th></th>\n",
       "      <th></th>\n",
       "    </tr>\n",
       "  </thead>\n",
       "  <tbody>\n",
       "    <tr>\n",
       "      <th>UTS1</th>\n",
       "      <td>Statistika</td>\n",
       "      <td>14</td>\n",
       "    </tr>\n",
       "    <tr>\n",
       "      <th>UAS1</th>\n",
       "      <td>Fisika</td>\n",
       "      <td>17</td>\n",
       "    </tr>\n",
       "    <tr>\n",
       "      <th>UTS1</th>\n",
       "      <td>Fisika</td>\n",
       "      <td>12</td>\n",
       "    </tr>\n",
       "    <tr>\n",
       "      <th>UAS1</th>\n",
       "      <td>Statistika</td>\n",
       "      <td>16</td>\n",
       "    </tr>\n",
       "    <tr>\n",
       "      <th>UTS1</th>\n",
       "      <td>Fisika</td>\n",
       "      <td>14</td>\n",
       "    </tr>\n",
       "    <tr>\n",
       "      <th>UAS1</th>\n",
       "      <td>Statistika</td>\n",
       "      <td>13</td>\n",
       "    </tr>\n",
       "  </tbody>\n",
       "</table>\n",
       "</div>"
      ],
      "text/plain": [
       "           Mata Pelajaran  Jumlah Peserta\n",
       "Tipe Ujian                               \n",
       "UTS1           Statistika              14\n",
       "UAS1               Fisika              17\n",
       "UTS1               Fisika              12\n",
       "UAS1           Statistika              16\n",
       "UTS1               Fisika              14\n",
       "UAS1           Statistika              13"
      ]
     },
     "execution_count": 2,
     "metadata": {},
     "output_type": "execute_result"
    }
   ],
   "source": [
    "import pandas as pd\n",
    "\n",
    "data = {\n",
    "    'Tipe Ujian' : ['UTS1', 'UAS1']*3,\n",
    "    'Mata Pelajaran' :['Statistika', 'Fisika', 'Fisika', 'Statistika', 'Fisika', 'Statistika'],\n",
    "    'Jumlah Peserta' : [14, 17, 12, 16, 14, 13]\n",
    "}\n",
    "df = pd.DataFrame(data).set_index('Tipe Ujian')\n",
    "df"
   ]
  },
  {
   "cell_type": "markdown",
   "metadata": {
    "colab_type": "text",
    "id": "odnDYRM3Kryz"
   },
   "source": [
    "Perhatikan bahwa data jumlah peserta ujian untuk suatu tipe ujian dan mata pelajaran tertentu ada yang duplikat, ubahlah struktur data tersebut dan lakukan aggregasi berjenis jumlah sehingga sesuai dengan hasil yang di harapkan\n",
    "\n",
    "Expected Result :\n",
    "\n",
    "![alt text](https://drive.google.com/uc?id=1emoz7orYR-0mCHffvAgM8j-V1P6yVHf0)"
   ]
  },
  {
   "cell_type": "code",
   "execution_count": 8,
   "metadata": {
    "colab": {},
    "colab_type": "code",
    "id": "gLKJlUYgKry3"
   },
   "outputs": [
    {
     "data": {
      "text/html": [
       "<div>\n",
       "<style scoped>\n",
       "    .dataframe tbody tr th:only-of-type {\n",
       "        vertical-align: middle;\n",
       "    }\n",
       "\n",
       "    .dataframe tbody tr th {\n",
       "        vertical-align: top;\n",
       "    }\n",
       "\n",
       "    .dataframe thead th {\n",
       "        text-align: right;\n",
       "    }\n",
       "</style>\n",
       "<table border=\"1\" class=\"dataframe\">\n",
       "  <thead>\n",
       "    <tr style=\"text-align: right;\">\n",
       "      <th>Mata Pelajaran</th>\n",
       "      <th>Fisika</th>\n",
       "      <th>Statistika</th>\n",
       "    </tr>\n",
       "    <tr>\n",
       "      <th>Tipe Ujian</th>\n",
       "      <th></th>\n",
       "      <th></th>\n",
       "    </tr>\n",
       "  </thead>\n",
       "  <tbody>\n",
       "    <tr>\n",
       "      <th>UAS1</th>\n",
       "      <td>17</td>\n",
       "      <td>29</td>\n",
       "    </tr>\n",
       "    <tr>\n",
       "      <th>UTS1</th>\n",
       "      <td>26</td>\n",
       "      <td>14</td>\n",
       "    </tr>\n",
       "  </tbody>\n",
       "</table>\n",
       "</div>"
      ],
      "text/plain": [
       "Mata Pelajaran  Fisika  Statistika\n",
       "Tipe Ujian                        \n",
       "UAS1                17          29\n",
       "UTS1                26          14"
      ]
     },
     "execution_count": 8,
     "metadata": {},
     "output_type": "execute_result"
    }
   ],
   "source": [
    "pr = df.pivot_table(index='Tipe Ujian', columns='Mata Pelajaran', values='Jumlah Peserta', aggfunc='sum')\n",
    "pr"
   ]
  },
  {
   "cell_type": "code",
   "execution_count": null,
   "metadata": {},
   "outputs": [],
   "source": []
  }
 ],
 "metadata": {
  "colab": {
   "collapsed_sections": [],
   "name": "Tugas Day 3 Week 2.ipynb",
   "provenance": []
  },
  "kernelspec": {
   "display_name": "Python 3",
   "language": "python",
   "name": "python3"
  },
  "language_info": {
   "codemirror_mode": {
    "name": "ipython",
    "version": 3
   },
   "file_extension": ".py",
   "mimetype": "text/x-python",
   "name": "python",
   "nbconvert_exporter": "python",
   "pygments_lexer": "ipython3",
   "version": "3.8.2"
  }
 },
 "nbformat": 4,
 "nbformat_minor": 1
}
