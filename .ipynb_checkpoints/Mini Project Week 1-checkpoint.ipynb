{
 "cells": [
  {
   "cell_type": "markdown",
   "metadata": {},
   "source": [
    "# Mini-Project 1 : Remove Duplikat List"
   ]
  },
  {
   "cell_type": "code",
   "execution_count": 2,
   "metadata": {},
   "outputs": [
    {
     "name": "stdout",
     "output_type": "stream",
     "text": [
      "[1, 2, 4, 6, 5, 7, 8]\n",
      "[1, 2, 4, 5, 6, 7, 8]\n"
     ]
    }
   ],
   "source": [
    "# solusi tanpa menggunakan set\n",
    "def remove_duplicate(obj_list):\n",
    "    new_list = []\n",
    "    for i in obj_list:\n",
    "        if i not in new_list:\n",
    "            new_list.append(i)\n",
    "    return new_list\n",
    "\n",
    "# solusi dengan menggunakan set\n",
    "def remove_duplicate_with_set(obj_list):\n",
    "    new_list = list(set(obj_list))\n",
    "    return new_list\n",
    "\n",
    "obj_list = [1, 2, 4, 6, 2, 1, 4, 5, 7, 8, 6]\n",
    "print(remove_duplicate(obj_list))\n",
    "print(remove_duplicate_with_set(obj_list))"
   ]
  },
  {
   "cell_type": "markdown",
   "metadata": {},
   "source": [
    "expected output :\n",
    "\n",
    "[1, 2, 4, 6, 5, 7, 8]\n",
    "\n",
    "[1, 2, 4, 5, 6, 7, 8]"
   ]
  },
  {
   "cell_type": "markdown",
   "metadata": {},
   "source": [
    "# Mini Project 2 : Membuat ChatBot Sederhana"
   ]
  },
  {
   "cell_type": "code",
   "execution_count": 73,
   "metadata": {},
   "outputs": [
    {
     "name": "stdout",
     "output_type": "stream",
     "text": [
      "baik\n",
      "ternak lele\n",
      "males ah\n",
      "maaf, aku ga mau pacaran\n",
      "maaf, aku bego, jadi nggak ngerti kamu ngomong apa\n",
      "hmm...\n"
     ]
    }
   ],
   "source": [
    "import random\n",
    "\n",
    "# DATA\n",
    "default = \"maaf, aku bego, jadi nggak ngerti kamu ngomong apa\"\n",
    "\n",
    "statements = [\n",
    "    \"kocak dah\",\n",
    "    \"kok bisa gitu?\",\n",
    "    \"hmm...\",\n",
    "    \"wtf\",\n",
    "    \"terus?\",\n",
    "    \"wah, hebat\",\n",
    "    \"lanjut besok ya, aku ngantuk\"\n",
    "]\n",
    "\n",
    "propose_answers = [\n",
    "    \"maaf, kamu terlalu baik buat aku\",\n",
    "    \"kita temenan aja ya\",\n",
    "    \"boleh\",\n",
    "    \"maaf, aku ga mau pacaran\",\n",
    "    \"kuy\",\n",
    "]\n",
    "\n",
    "greeting_answers = [\n",
    "    \"baik\",\n",
    "    \"biasa aja\"\n",
    "]\n",
    "\n",
    "date_answers = [\n",
    "    \"kuy\",\n",
    "    \"males ah\",\n",
    "    \"maaf, aku ada kerjaan\"\n",
    "]\n",
    "\n",
    "activity_answers = [\n",
    "    \"gabut\",\n",
    "    \"ternak lele\",\n",
    "    \"aku lagi belajar\"\n",
    "]\n",
    "\n",
    "questions = {\n",
    "    \"apa kabar?\" : greeting_answers,\n",
    "    \"lagi ngapain?\": activity_answers,\n",
    "    \"jalan yuk?\" : date_answers,\n",
    "    \"jadian yuk?\" : propose_answers,\n",
    "}\n",
    "\n",
    "responses = {\n",
    "    \"question\" : questions,\n",
    "    \"statement\" : statements\n",
    "}\n",
    "\n",
    "# FUNCTION\n",
    "def chatbotPDKT(message):\n",
    "    if(\"?\" in message):\n",
    "        if(message in questions.keys()):\n",
    "            return random.choice(questions[message])\n",
    "        else:\n",
    "            return default\n",
    "        \n",
    "    else:\n",
    "        return random.choice(statements)\n",
    "\n",
    "\n",
    "# TEST\n",
    "# known questions\n",
    "print(chatbotPDKT(\"apa kabar?\"))\n",
    "print(chatbotPDKT(\"lagi ngapain?\"))\n",
    "print(chatbotPDKT(\"jalan yuk?\"))\n",
    "print(chatbotPDKT(\"jadian yuk?\"))\n",
    "\n",
    "# unknown question\n",
    "print(chatbotPDKT(\"siapa nama bapak Albert Einstein?\"))\n",
    "\n",
    "# statement\n",
    "print(chatbotPDKT(\"kamu cantik deh\"))"
   ]
  },
  {
   "cell_type": "code",
   "execution_count": null,
   "metadata": {},
   "outputs": [],
   "source": []
  }
 ],
 "metadata": {
  "kernelspec": {
   "display_name": "Python 3",
   "language": "python",
   "name": "python3"
  },
  "language_info": {
   "codemirror_mode": {
    "name": "ipython",
    "version": 3
   },
   "file_extension": ".py",
   "mimetype": "text/x-python",
   "name": "python",
   "nbconvert_exporter": "python",
   "pygments_lexer": "ipython3",
   "version": "3.8.2"
  }
 },
 "nbformat": 4,
 "nbformat_minor": 4
}
