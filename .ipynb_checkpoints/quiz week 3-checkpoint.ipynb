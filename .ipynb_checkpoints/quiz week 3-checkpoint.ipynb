{
 "cells": [
  {
   "cell_type": "markdown",
   "metadata": {
    "colab_type": "text",
    "id": "P1yV4PS_B6wd"
   },
   "source": [
    "# QUIZ-3\n",
    "Dataset-dataset berikut ini menunjukkan persentase lemak, protein, dan food yang dikonsumsi dari setiap jenis makanan yang terdaftar. Akhir dataset juga mencakup persentase obesitas dan kurang gizi, dan persentase kasus COVID-19 Terkonfirmasi/Kematian/Sembuh/Aktif. (Catatan: Semua data memiliki unit% kecuali Populasi, Unit % tersebut berdasarkan jumlah populasi).\n",
    "\n",
    "Link Download:\n",
    "\n",
    "[Food_Supply_Quantity_kg_Data.csv](https://drive.google.com/uc?export=download&id=1EHSvX9TWPTQXwWLxW9xyKyM8EFoPohOW)\n",
    "\n",
    "[Protein_Supply_Quantity_Data.csv](https://drive.google.com/uc?export=download&id=1Qr4U9lQAVAI3Jcqk0n2HvVHulW_iaKAc)\n",
    "\n",
    "[Fat_Supply_Quantity_Data.csv](https://drive.google.com/uc?export=download&id=1VCzZyckdANfyqh2fJEUecXAt-uCJGxaT)\n",
    "\n",
    "[Supply_Food_Data_Descriptions.csv](https://drive.google.com/uc?export=download&id=1VwZsUhqtPTiQgGHQqjjMFXDriIu1_Gaz)"
   ]
  },
  {
   "cell_type": "code",
   "execution_count": 199,
   "metadata": {
    "colab": {},
    "colab_type": "code",
    "id": "7mh30fPxB6wi"
   },
   "outputs": [],
   "source": [
    "import numpy as np\n",
    "import pandas as pd\n",
    "\n",
    "# Import Semua Data\n",
    "df_food = pd.read_csv('Food_Supply_Quantity_kg_Data.csv')\n",
    "df_protein = pd.read_csv('Protein_Supply_Quantity_Data.csv')\n",
    "df_fat = pd.read_csv('Fat_Supply_Quantity_Data.csv')\n",
    "df_category = pd.read_csv('Supply_Food_Data_Descriptions.csv')"
   ]
  },
  {
   "cell_type": "markdown",
   "metadata": {
    "colab_type": "text",
    "id": "-pQHcLgQB6w2"
   },
   "source": [
    "<h2> 1. Python Quiz: Memisahkan antara column tentang makanan yang di supply dan bukan makanan</h2>\n",
    "\n",
    "di akhir kita mempunyai data list berisi semua column tentang supply makanan dan non supply makanan atau column tentang covid-19 beserta populasi, cara kalian mendapatkannya bebas yang penting sesuai output."
   ]
  },
  {
   "cell_type": "markdown",
   "metadata": {
    "colab_type": "text",
    "id": "dxEfwTdBB6w5"
   },
   "source": [
    "Hasil Akhir Yang di harapkan :\n",
    "\n",
    "- supply columns => columns berisi column tentang semua jenis supply makanan\n",
    "- all columns => Semua columns\n",
    "- non supply columns => column column tentang data covid-19 + obesitas + Undernourished + populasi\n",
    "\n",
    "![alt text](https://drive.google.com/uc?id=1OfUO60EJbM2ESz1BmNTQ_WGbGQ75h4eI)"
   ]
  },
  {
   "cell_type": "code",
   "execution_count": 31,
   "metadata": {
    "colab": {},
    "colab_type": "code",
    "id": "Wl_SmBiIB6w7"
   },
   "outputs": [
    {
     "name": "stdout",
     "output_type": "stream",
     "text": [
      "All Columns : ['Country', 'Alcoholic Beverages', 'Animal fats', 'Animal Products', 'Aquatic Products, Other', 'Cereals - Excluding Beer', 'Eggs', 'Fish, Seafood', 'Fruits - Excluding Wine', 'Meat', 'Milk - Excluding Butter', 'Miscellaneous', 'Offals', 'Oilcrops', 'Pulses', 'Spices', 'Starchy Roots', 'Stimulants', 'Sugar & Sweeteners', 'Sugar Crops', 'Treenuts', 'Vegetable Oils', 'Vegetables', 'Vegetal Products', 'Obesity', 'Undernourished', 'Confirmed', 'Deaths', 'Recovered', 'Active', 'Population', 'Unit (all except Population)']\n",
      "Supply Columns : ['Alcoholic Beverages', 'Animal fats', 'Animal Products', 'Aquatic Products, Other', 'Cereals - Excluding Beer', 'Eggs', 'Fish, Seafood', 'Fruits - Excluding Wine', 'Meat', 'Milk - Excluding Butter', 'Miscellaneous', 'Offals', 'Oilcrops', 'Pulses', 'Spices', 'Starchy Roots', 'Stimulants', 'Sugar & Sweeteners', 'Sugar Crops', 'Treenuts', 'Vegetable Oils', 'Vegetables', 'Vegetal Products']\n",
      "Non Supply Columns : ['Country', 'Obesity', 'Undernourished', 'Confirmed', 'Deaths', 'Recovered', 'Active', 'Population', 'Unit (all except Population)']\n"
     ]
    }
   ],
   "source": [
    "# Code Here\n",
    "all_columns = []\n",
    "for col in df_food.columns: \n",
    "    all_columns.append(col) \n",
    "\n",
    "supply_column = df_category['Categories'].tolist()\n",
    "\n",
    "non_supply_column = []\n",
    "for col in all_columns:\n",
    "    if col in supply_column:\n",
    "        continue\n",
    "    else:\n",
    "        non_supply_column.append(col)\n",
    "        \n",
    "\n",
    "print('All Columns : ' + str(all_columns))\n",
    "print('Supply Columns : ' + str(supply_column))\n",
    "print('Non Supply Columns : ' + str(non_supply_column)) "
   ]
  },
  {
   "cell_type": "markdown",
   "metadata": {
    "colab_type": "text",
    "id": "D2b31tlRB6xQ"
   },
   "source": [
    "<h2>2. Pandas Quiz: Menggabungkan DataFrame </h2>\n",
    "\n",
    "Gabungkan Semua data dimana semua data nya berisi semua row dan column yang unik. berikan unique suffixes kepada nama column yang berlabel sama tapi berisi informasi yang berbeda.\n",
    "\n",
    "Tidak boleh ada column yang berisi data informasi yang sama."
   ]
  },
  {
   "cell_type": "markdown",
   "metadata": {
    "colab_type": "text",
    "id": "hgetKQiFB6xT"
   },
   "source": [
    "Hasil akhir yang di harapkan mengenai data adalah seperti berikut:\n",
    "\n",
    "Lima data pertama :\n",
    "\n",
    "![alt text](https://drive.google.com/uc?id=1pUqpDnU8V4zy58GEOF9bIWjbcXnhIICU)\n",
    "\n",
    "Dimensi data Hasil Gabung :\n",
    "(170, 70)\n",
    "\n",
    "Column Data Hasil Gabung, Perhatikan bahwa di setiap akhir nama column, nama column tersebut di tambahkan dengan suffixes berdasarkan asal data tersebut :\n",
    "\n",
    "['Country', 'Alcoholic Beverages_food', 'Animal fats_food',\n",
    "       'Animal Products_food', 'Aquatic Products, Other_food',\n",
    "       'Cereals - Excluding Beer_food', 'Eggs_food', 'Fish, Seafood_food',\n",
    "       'Fruits - Excluding Wine_food', 'Meat_food',\n",
    "       'Milk - Excluding Butter_food', 'Miscellaneous_food', 'Offals_food',\n",
    "       'Oilcrops_food', 'Pulses_food', 'Spices_food', 'Starchy Roots_food',\n",
    "       'Stimulants_food', 'Sugar & Sweeteners_food', 'Sugar Crops_food',\n",
    "       'Treenuts_food', 'Vegetable Oils_food', 'Vegetables_food',\n",
    "       'Vegetal Products_food', 'Alcoholic Beverages_fat', 'Animal fats_fat',\n",
    "       'Animal Products_fat', 'Aquatic Products, Other_fat',\n",
    "       'Cereals - Excluding Beer_fat', 'Eggs_fat', 'Fish, Seafood_fat',\n",
    "       'Fruits - Excluding Wine_fat', 'Meat_fat',\n",
    "       'Milk - Excluding Butter_fat', 'Miscellaneous_fat', 'Offals_fat',\n",
    "       'Oilcrops_fat', 'Pulses_fat', 'Spices_fat', 'Starchy Roots_fat',\n",
    "       'Stimulants_fat', 'Sugar & Sweeteners_fat', 'Sugar Crops_fat',\n",
    "       'Treenuts_fat', 'Vegetable Oils_fat', 'Vegetables_fat',\n",
    "       'Vegetal Products_fat', 'Alcoholic Beverages_protein_protein',\n",
    "       'Animal fats_protein_protein', 'Animal Products_protein_protein',\n",
    "       'Aquatic Products, Other_protein_protein',\n",
    "       'Cereals - Excluding Beer_protein_protein', 'Eggs_protein_protein',\n",
    "       'Fish, Seafood_protein_protein',\n",
    "       'Fruits - Excluding Wine_protein_protein', 'Meat_protein_protein',\n",
    "       'Milk - Excluding Butter_protein_protein',\n",
    "       'Miscellaneous_protein_protein', 'Offals_protein_protein',\n",
    "       'Oilcrops_protein_protein', 'Pulses_protein_protein',\n",
    "       'Spices_protein_protein', 'Starchy Roots_protein_protein',\n",
    "       'Stimulants_protein_protein', 'Sugar & Sweeteners_protein_protein',\n",
    "       'Sugar Crops_protein_protein', 'Treenuts_protein_protein',\n",
    "       'Vegetable Oils_protein_protein', 'Vegetables_protein_protein',\n",
    "       'Vegetal Products_protein_protein', 'Obesity', 'Undernourished',\n",
    "       'Confirmed', 'Deaths', 'Recovered', 'Active', 'Population',\n",
    "       'Unit (all except Population)']"
   ]
  },
  {
   "cell_type": "code",
   "execution_count": 173,
   "metadata": {
    "colab": {},
    "colab_type": "code",
    "id": "LJ1ivIlWB6xW"
   },
   "outputs": [
    {
     "data": {
      "text/plain": [
       "Index(['Country', 'Alcoholic Beverages_food', 'Animal fats_food',\n",
       "       'Animal Products_food', 'Aquatic Products, Other_food',\n",
       "       'Cereals - Excluding Beer_food', 'Eggs_food', 'Fish, Seafood_food',\n",
       "       'Fruits - Excluding Wine_food', 'Meat_food',\n",
       "       'Milk - Excluding Butter_food', 'Miscellaneous_food', 'Offals_food',\n",
       "       'Oilcrops_food', 'Pulses_food', 'Spices_food', 'Starchy Roots_food',\n",
       "       'Stimulants_food', 'Sugar & Sweeteners_food', 'Sugar Crops_food',\n",
       "       'Treenuts_food', 'Vegetable Oils_food', 'Vegetables_food',\n",
       "       'Vegetal Products_food', 'Obesity', 'Undernourished', 'Confirmed',\n",
       "       'Deaths', 'Recovered', 'Active', 'Population',\n",
       "       'Unit (all except Population)', 'Alcoholic Beverages_fat',\n",
       "       'Animal Products_fat', 'Animal fats_fat', 'Aquatic Products, Other_fat',\n",
       "       'Cereals - Excluding Beer_fat', 'Eggs_fat', 'Fish, Seafood_fat',\n",
       "       'Fruits - Excluding Wine_fat', 'Meat_fat', 'Miscellaneous_fat',\n",
       "       'Milk - Excluding Butter_fat', 'Offals_fat', 'Oilcrops_fat',\n",
       "       'Pulses_fat', 'Spices_fat', 'Starchy Roots_fat', 'Stimulants_fat',\n",
       "       'Sugar Crops_fat', 'Sugar & Sweeteners_fat', 'Treenuts_fat',\n",
       "       'Vegetal Products_fat', 'Vegetable Oils_fat', 'Vegetables_fat',\n",
       "       'Alcoholic Beverages', 'Animal Products', 'Animal fats',\n",
       "       'Aquatic Products, Other', 'Cereals - Excluding Beer', 'Eggs',\n",
       "       'Fish, Seafood', 'Fruits - Excluding Wine', 'Meat',\n",
       "       'Milk - Excluding Butter', 'Offals', 'Oilcrops', 'Pulses', 'Spices',\n",
       "       'Starchy Roots', 'Stimulants', 'Sugar Crops', 'Sugar & Sweeteners',\n",
       "       'Treenuts', 'Vegetal Products', 'Vegetable Oils', 'Vegetables',\n",
       "       'Miscellaneous'],\n",
       "      dtype='object')"
      ]
     },
     "execution_count": 173,
     "metadata": {},
     "output_type": "execute_result"
    }
   ],
   "source": [
    "# Code Here\n",
    "\n",
    "# drop column yang sama untuk df_food & df_fat\n",
    "colums_to_drop = []\n",
    "for x in df_food.columns:\n",
    "     if (df_food[x].equals(df_fat[x]) and (x != 'Country')):\n",
    "        colums_to_drop.append(x)\n",
    "        \n",
    "df_fat_unique = df_fat.drop(colums_to_drop, axis = 1)\n",
    "\n",
    "# drop column yang sama untuk df_food & df_protein\n",
    "colums_to_drop = []\n",
    "for x in df_food.columns:\n",
    "     if (df_food[x].equals(df_protein[x]) and (x != 'Country')):\n",
    "        colums_to_drop.append(x)\n",
    "        \n",
    "df_protein_unique = df_protein.drop(colums_to_drop, axis = 1)\n",
    "\n",
    "# join \n",
    "df_merge = df_food.merge(df_fat_unique,  on='Country', suffixes=('_food', '_fat'))\n",
    "df_merge = df_merge.merge(df_protein_unique,  on='Country', suffixes=('', '_protein'))\n",
    "df_merge.columns\n"
   ]
  },
  {
   "cell_type": "markdown",
   "metadata": {
    "colab_type": "text",
    "id": "pegkuXiNB6xj"
   },
   "source": [
    "<h2>3. Pandas Quiz: Sorting and Filtering </h2>"
   ]
  },
  {
   "cell_type": "markdown",
   "metadata": {
    "colab_type": "text",
    "id": "W4gNA0ZBB6xm"
   },
   "source": [
    "Buatlah sebuah data, dimana data ini di sort dari yang terbesar ke yang terkecil berdasarkan column Obesitas.\n",
    "\n",
    "Kemudian Lakukan Perintah Berikut :\n",
    "\n",
    "- print data hasil sorting\n",
    "- Berapa persen jumlah obesitas di Indonesia berdasarkan populasinya? kemudian tunjukan cara mendapatkannya!\n",
    "- Urutan ke berapakah Indonesia mengenai proposi penduduk yang obesitas berdasarkan total populasinya dari yang terbesar? kemudian tunjukan cara mendapatkannya! "
   ]
  },
  {
   "cell_type": "code",
   "execution_count": 159,
   "metadata": {
    "colab": {},
    "colab_type": "code",
    "id": "tHZDS4QTB6xo"
   },
   "outputs": [
    {
     "data": {
      "text/html": [
       "<div>\n",
       "<style scoped>\n",
       "    .dataframe tbody tr th:only-of-type {\n",
       "        vertical-align: middle;\n",
       "    }\n",
       "\n",
       "    .dataframe tbody tr th {\n",
       "        vertical-align: top;\n",
       "    }\n",
       "\n",
       "    .dataframe thead th {\n",
       "        text-align: right;\n",
       "    }\n",
       "</style>\n",
       "<table border=\"1\" class=\"dataframe\">\n",
       "  <thead>\n",
       "    <tr style=\"text-align: right;\">\n",
       "      <th></th>\n",
       "      <th>Country</th>\n",
       "      <th>Alcoholic Beverages</th>\n",
       "      <th>Animal fats</th>\n",
       "      <th>Animal Products</th>\n",
       "      <th>Aquatic Products, Other</th>\n",
       "      <th>Cereals - Excluding Beer</th>\n",
       "      <th>Eggs</th>\n",
       "      <th>Fish, Seafood</th>\n",
       "      <th>Fruits - Excluding Wine</th>\n",
       "      <th>Meat</th>\n",
       "      <th>...</th>\n",
       "      <th>Vegetables</th>\n",
       "      <th>Vegetal Products</th>\n",
       "      <th>Obesity</th>\n",
       "      <th>Undernourished</th>\n",
       "      <th>Confirmed</th>\n",
       "      <th>Deaths</th>\n",
       "      <th>Recovered</th>\n",
       "      <th>Active</th>\n",
       "      <th>Population</th>\n",
       "      <th>Unit (all except Population)</th>\n",
       "    </tr>\n",
       "  </thead>\n",
       "  <tbody>\n",
       "    <tr>\n",
       "      <th>0</th>\n",
       "      <td>Kiribati</td>\n",
       "      <td>0.2970</td>\n",
       "      <td>0.0486</td>\n",
       "      <td>8.8958</td>\n",
       "      <td>0.0000</td>\n",
       "      <td>8.2747</td>\n",
       "      <td>0.1640</td>\n",
       "      <td>6.1065</td>\n",
       "      <td>5.8907</td>\n",
       "      <td>2.3856</td>\n",
       "      <td>...</td>\n",
       "      <td>4.1389</td>\n",
       "      <td>41.1042</td>\n",
       "      <td>45.6</td>\n",
       "      <td>2.7</td>\n",
       "      <td>NaN</td>\n",
       "      <td>NaN</td>\n",
       "      <td>NaN</td>\n",
       "      <td>NaN</td>\n",
       "      <td>123000.0</td>\n",
       "      <td>%</td>\n",
       "    </tr>\n",
       "    <tr>\n",
       "      <th>1</th>\n",
       "      <td>Samoa</td>\n",
       "      <td>1.4236</td>\n",
       "      <td>0.2262</td>\n",
       "      <td>11.1630</td>\n",
       "      <td>0.1236</td>\n",
       "      <td>3.6768</td>\n",
       "      <td>0.1314</td>\n",
       "      <td>2.7788</td>\n",
       "      <td>10.7845</td>\n",
       "      <td>5.7993</td>\n",
       "      <td>...</td>\n",
       "      <td>1.1656</td>\n",
       "      <td>38.8349</td>\n",
       "      <td>45.5</td>\n",
       "      <td>2.7</td>\n",
       "      <td>NaN</td>\n",
       "      <td>NaN</td>\n",
       "      <td>NaN</td>\n",
       "      <td>NaN</td>\n",
       "      <td>199000.0</td>\n",
       "      <td>%</td>\n",
       "    </tr>\n",
       "    <tr>\n",
       "      <th>2</th>\n",
       "      <td>United States of America</td>\n",
       "      <td>4.8647</td>\n",
       "      <td>0.1681</td>\n",
       "      <td>21.2352</td>\n",
       "      <td>0.0020</td>\n",
       "      <td>5.5048</td>\n",
       "      <td>0.7860</td>\n",
       "      <td>1.1287</td>\n",
       "      <td>4.5432</td>\n",
       "      <td>6.2645</td>\n",
       "      <td>...</td>\n",
       "      <td>5.7249</td>\n",
       "      <td>28.7587</td>\n",
       "      <td>37.3</td>\n",
       "      <td>&lt;2.5</td>\n",
       "      <td>0.365894</td>\n",
       "      <td>0.021590</td>\n",
       "      <td>0.057660</td>\n",
       "      <td>0.295463</td>\n",
       "      <td>329153000.0</td>\n",
       "      <td>%</td>\n",
       "    </tr>\n",
       "    <tr>\n",
       "      <th>3</th>\n",
       "      <td>Kuwait</td>\n",
       "      <td>0.0044</td>\n",
       "      <td>0.0022</td>\n",
       "      <td>10.7213</td>\n",
       "      <td>0.0022</td>\n",
       "      <td>11.4132</td>\n",
       "      <td>1.3306</td>\n",
       "      <td>0.8343</td>\n",
       "      <td>5.3058</td>\n",
       "      <td>4.8770</td>\n",
       "      <td>...</td>\n",
       "      <td>12.9953</td>\n",
       "      <td>39.2750</td>\n",
       "      <td>37.0</td>\n",
       "      <td>2.8</td>\n",
       "      <td>0.137961</td>\n",
       "      <td>0.000951</td>\n",
       "      <td>0.048300</td>\n",
       "      <td>0.088709</td>\n",
       "      <td>4207000.0</td>\n",
       "      <td>%</td>\n",
       "    </tr>\n",
       "    <tr>\n",
       "      <th>4</th>\n",
       "      <td>Saudi Arabia</td>\n",
       "      <td>0.0000</td>\n",
       "      <td>0.3917</td>\n",
       "      <td>12.9962</td>\n",
       "      <td>0.0000</td>\n",
       "      <td>16.3284</td>\n",
       "      <td>0.6003</td>\n",
       "      <td>1.0369</td>\n",
       "      <td>7.0413</td>\n",
       "      <td>4.9529</td>\n",
       "      <td>...</td>\n",
       "      <td>5.7024</td>\n",
       "      <td>37.0038</td>\n",
       "      <td>35.0</td>\n",
       "      <td>7.1</td>\n",
       "      <td>0.088407</td>\n",
       "      <td>0.000584</td>\n",
       "      <td>0.015872</td>\n",
       "      <td>0.071950</td>\n",
       "      <td>34218000.0</td>\n",
       "      <td>%</td>\n",
       "    </tr>\n",
       "    <tr>\n",
       "      <th>...</th>\n",
       "      <td>...</td>\n",
       "      <td>...</td>\n",
       "      <td>...</td>\n",
       "      <td>...</td>\n",
       "      <td>...</td>\n",
       "      <td>...</td>\n",
       "      <td>...</td>\n",
       "      <td>...</td>\n",
       "      <td>...</td>\n",
       "      <td>...</td>\n",
       "      <td>...</td>\n",
       "      <td>...</td>\n",
       "      <td>...</td>\n",
       "      <td>...</td>\n",
       "      <td>...</td>\n",
       "      <td>...</td>\n",
       "      <td>...</td>\n",
       "      <td>...</td>\n",
       "      <td>...</td>\n",
       "      <td>...</td>\n",
       "      <td>...</td>\n",
       "    </tr>\n",
       "    <tr>\n",
       "      <th>165</th>\n",
       "      <td>Timor-Leste</td>\n",
       "      <td>0.4459</td>\n",
       "      <td>0.0897</td>\n",
       "      <td>5.4983</td>\n",
       "      <td>0.0000</td>\n",
       "      <td>26.3320</td>\n",
       "      <td>0.1025</td>\n",
       "      <td>1.0225</td>\n",
       "      <td>2.1027</td>\n",
       "      <td>4.0376</td>\n",
       "      <td>...</td>\n",
       "      <td>3.1867</td>\n",
       "      <td>44.5030</td>\n",
       "      <td>2.9</td>\n",
       "      <td>24.9</td>\n",
       "      <td>0.001856</td>\n",
       "      <td>0.000000</td>\n",
       "      <td>0.001547</td>\n",
       "      <td>0.000309</td>\n",
       "      <td>1293000.0</td>\n",
       "      <td>%</td>\n",
       "    </tr>\n",
       "    <tr>\n",
       "      <th>166</th>\n",
       "      <td>Vietnam</td>\n",
       "      <td>1.4591</td>\n",
       "      <td>0.1640</td>\n",
       "      <td>8.5765</td>\n",
       "      <td>0.0042</td>\n",
       "      <td>16.8740</td>\n",
       "      <td>0.3077</td>\n",
       "      <td>2.6392</td>\n",
       "      <td>5.9029</td>\n",
       "      <td>4.4382</td>\n",
       "      <td>...</td>\n",
       "      <td>11.9508</td>\n",
       "      <td>41.4232</td>\n",
       "      <td>2.1</td>\n",
       "      <td>9.3</td>\n",
       "      <td>0.000283</td>\n",
       "      <td>0.000000</td>\n",
       "      <td>0.000243</td>\n",
       "      <td>0.000041</td>\n",
       "      <td>95656000.0</td>\n",
       "      <td>%</td>\n",
       "    </tr>\n",
       "    <tr>\n",
       "      <th>167</th>\n",
       "      <td>French Polynesia</td>\n",
       "      <td>4.6997</td>\n",
       "      <td>0.0309</td>\n",
       "      <td>14.3585</td>\n",
       "      <td>0.0169</td>\n",
       "      <td>7.6479</td>\n",
       "      <td>0.5386</td>\n",
       "      <td>3.4809</td>\n",
       "      <td>4.3512</td>\n",
       "      <td>7.0798</td>\n",
       "      <td>...</td>\n",
       "      <td>4.0992</td>\n",
       "      <td>35.6559</td>\n",
       "      <td>NaN</td>\n",
       "      <td>4.2</td>\n",
       "      <td>NaN</td>\n",
       "      <td>NaN</td>\n",
       "      <td>NaN</td>\n",
       "      <td>NaN</td>\n",
       "      <td>279000.0</td>\n",
       "      <td>%</td>\n",
       "    </tr>\n",
       "    <tr>\n",
       "      <th>168</th>\n",
       "      <td>New Caledonia</td>\n",
       "      <td>5.0363</td>\n",
       "      <td>0.0821</td>\n",
       "      <td>11.7818</td>\n",
       "      <td>0.0804</td>\n",
       "      <td>8.5840</td>\n",
       "      <td>0.7494</td>\n",
       "      <td>2.0361</td>\n",
       "      <td>5.5855</td>\n",
       "      <td>5.8687</td>\n",
       "      <td>...</td>\n",
       "      <td>5.5941</td>\n",
       "      <td>38.2208</td>\n",
       "      <td>NaN</td>\n",
       "      <td>7.1</td>\n",
       "      <td>NaN</td>\n",
       "      <td>NaN</td>\n",
       "      <td>NaN</td>\n",
       "      <td>NaN</td>\n",
       "      <td>291000.0</td>\n",
       "      <td>%</td>\n",
       "    </tr>\n",
       "    <tr>\n",
       "      <th>169</th>\n",
       "      <td>Taiwan*</td>\n",
       "      <td>2.7663</td>\n",
       "      <td>0.1577</td>\n",
       "      <td>12.1312</td>\n",
       "      <td>0.0281</td>\n",
       "      <td>10.0808</td>\n",
       "      <td>1.0900</td>\n",
       "      <td>2.3182</td>\n",
       "      <td>8.3904</td>\n",
       "      <td>6.0558</td>\n",
       "      <td>...</td>\n",
       "      <td>9.1938</td>\n",
       "      <td>37.8684</td>\n",
       "      <td>NaN</td>\n",
       "      <td>3.5</td>\n",
       "      <td>0.001856</td>\n",
       "      <td>0.000025</td>\n",
       "      <td>0.001416</td>\n",
       "      <td>0.000415</td>\n",
       "      <td>23593000.0</td>\n",
       "      <td>%</td>\n",
       "    </tr>\n",
       "  </tbody>\n",
       "</table>\n",
       "<p>170 rows × 32 columns</p>\n",
       "</div>"
      ],
      "text/plain": [
       "                      Country  Alcoholic Beverages  Animal fats  \\\n",
       "0                    Kiribati               0.2970       0.0486   \n",
       "1                       Samoa               1.4236       0.2262   \n",
       "2    United States of America               4.8647       0.1681   \n",
       "3                      Kuwait               0.0044       0.0022   \n",
       "4                Saudi Arabia               0.0000       0.3917   \n",
       "..                        ...                  ...          ...   \n",
       "165               Timor-Leste               0.4459       0.0897   \n",
       "166                   Vietnam               1.4591       0.1640   \n",
       "167          French Polynesia               4.6997       0.0309   \n",
       "168             New Caledonia               5.0363       0.0821   \n",
       "169                   Taiwan*               2.7663       0.1577   \n",
       "\n",
       "     Animal Products  Aquatic Products, Other  Cereals - Excluding Beer  \\\n",
       "0             8.8958                   0.0000                    8.2747   \n",
       "1            11.1630                   0.1236                    3.6768   \n",
       "2            21.2352                   0.0020                    5.5048   \n",
       "3            10.7213                   0.0022                   11.4132   \n",
       "4            12.9962                   0.0000                   16.3284   \n",
       "..               ...                      ...                       ...   \n",
       "165           5.4983                   0.0000                   26.3320   \n",
       "166           8.5765                   0.0042                   16.8740   \n",
       "167          14.3585                   0.0169                    7.6479   \n",
       "168          11.7818                   0.0804                    8.5840   \n",
       "169          12.1312                   0.0281                   10.0808   \n",
       "\n",
       "       Eggs  Fish, Seafood  Fruits - Excluding Wine    Meat  ...  Vegetables  \\\n",
       "0    0.1640         6.1065                   5.8907  2.3856  ...      4.1389   \n",
       "1    0.1314         2.7788                  10.7845  5.7993  ...      1.1656   \n",
       "2    0.7860         1.1287                   4.5432  6.2645  ...      5.7249   \n",
       "3    1.3306         0.8343                   5.3058  4.8770  ...     12.9953   \n",
       "4    0.6003         1.0369                   7.0413  4.9529  ...      5.7024   \n",
       "..      ...            ...                      ...     ...  ...         ...   \n",
       "165  0.1025         1.0225                   2.1027  4.0376  ...      3.1867   \n",
       "166  0.3077         2.6392                   5.9029  4.4382  ...     11.9508   \n",
       "167  0.5386         3.4809                   4.3512  7.0798  ...      4.0992   \n",
       "168  0.7494         2.0361                   5.5855  5.8687  ...      5.5941   \n",
       "169  1.0900         2.3182                   8.3904  6.0558  ...      9.1938   \n",
       "\n",
       "     Vegetal Products  Obesity  Undernourished  Confirmed    Deaths  \\\n",
       "0             41.1042     45.6             2.7        NaN       NaN   \n",
       "1             38.8349     45.5             2.7        NaN       NaN   \n",
       "2             28.7587     37.3            <2.5   0.365894  0.021590   \n",
       "3             39.2750     37.0             2.8   0.137961  0.000951   \n",
       "4             37.0038     35.0             7.1   0.088407  0.000584   \n",
       "..                ...      ...             ...        ...       ...   \n",
       "165           44.5030      2.9            24.9   0.001856  0.000000   \n",
       "166           41.4232      2.1             9.3   0.000283  0.000000   \n",
       "167           35.6559      NaN             4.2        NaN       NaN   \n",
       "168           38.2208      NaN             7.1        NaN       NaN   \n",
       "169           37.8684      NaN             3.5   0.001856  0.000025   \n",
       "\n",
       "     Recovered    Active   Population  Unit (all except Population)  \n",
       "0          NaN       NaN     123000.0                             %  \n",
       "1          NaN       NaN     199000.0                             %  \n",
       "2     0.057660  0.295463  329153000.0                             %  \n",
       "3     0.048300  0.088709    4207000.0                             %  \n",
       "4     0.015872  0.071950   34218000.0                             %  \n",
       "..         ...       ...          ...                           ...  \n",
       "165   0.001547  0.000309    1293000.0                             %  \n",
       "166   0.000243  0.000041   95656000.0                             %  \n",
       "167        NaN       NaN     279000.0                             %  \n",
       "168        NaN       NaN     291000.0                             %  \n",
       "169   0.001416  0.000415   23593000.0                             %  \n",
       "\n",
       "[170 rows x 32 columns]"
      ]
     },
     "execution_count": 159,
     "metadata": {},
     "output_type": "execute_result"
    }
   ],
   "source": [
    "# print Hasil Sorting\n",
    "df_sorting = df_food.sort_values(by=['Obesity'], ascending= False, ignore_index= True)\n",
    "df_sorting"
   ]
  },
  {
   "cell_type": "code",
   "execution_count": 160,
   "metadata": {
    "colab": {},
    "colab_type": "code",
    "id": "Ddz7bWTkB6x9"
   },
   "outputs": [
    {
     "data": {
      "text/plain": [
       "138    6.9\n",
       "Name: Obesity, dtype: float64"
      ]
     },
     "execution_count": 160,
     "metadata": {},
     "output_type": "execute_result"
    }
   ],
   "source": [
    "# code untuk mendapatkan nilai proporsi obesitas di Indonesia\n",
    "# jawab: 6.9 %\n",
    "\n",
    "indo = df_sorting[df_sorting['Country'] == 'Indonesia']\n",
    "indo['Obesity']"
   ]
  },
  {
   "cell_type": "code",
   "execution_count": 162,
   "metadata": {
    "colab": {},
    "colab_type": "code",
    "id": "FHA6R7jzB6yM"
   },
   "outputs": [
    {
     "data": {
      "text/plain": [
       "Int64Index([137], dtype='int64')"
      ]
     },
     "execution_count": 162,
     "metadata": {},
     "output_type": "execute_result"
    }
   ],
   "source": [
    "# code untuk mendapatkan urutan indoensia mengenai proposi obesitas dari terbesar\n",
    "# jawab: ketika melakukan sorting sebelumnya, indexnya telah direset sehingga kita tinggal mencari nilai (index - 1)\n",
    "# jawab: urutan 137\n",
    "\n",
    "indo.index -1"
   ]
  },
  {
   "cell_type": "markdown",
   "metadata": {
    "colab_type": "text",
    "id": "-67mnOAPB6ym"
   },
   "source": [
    "<h2>4. Pandas Quiz: Binning Data, Grouping, dan Aggregating </h2>"
   ]
  },
  {
   "cell_type": "markdown",
   "metadata": {
    "colab_type": "text",
    "id": "QqGWcJVGB6yp"
   },
   "source": [
    "Binning data Terkonfirmasi COVID-19 (column Confirmed) dari data food supply menjadi 4 bagian berdasarkan quartile. kalian dapat menggunakan fungsi qcut untuk melakukan bininng ini. Masukan data hasil binning tersebut menjadi column baru untuk data food supply. misalkan beri nama column tersebut dengan 'Confirmed Category'. Berikan label 'Sangat Tidak Banyak', 'Sedang', 'Cukup Banyak', 'Sangat Banyak'. untuk masing-masing binning dari interval yang memiliki nilai terkecil sampai yang terbesar\n",
    "\n",
    "Baca dokumentasi berikut untuk fungsi qcut : https://pandas.pydata.org/pandas-docs/stable/reference/api/pandas.qcut.html\n",
    "\n",
    "- Buat data baru yang berupa data grouping semua data berdasarkan column Hasil Bininng atau column 'Confirmed Category'.\n",
    "- Grouping hanya column 'Obesity', 'Meat', 'Fruits - Excluding Wine', 'Fish, Seafood', 'Animal Products', 'Vegetal Products' saja.\n",
    "- Kemudian Aggregate dengan fungsi mean.\n",
    "\n",
    "Expected Output :\n",
    "\n",
    "![alt text](https://drive.google.com/uc?id=1LZIgWZqDTl2WGBjS_M1nAqNGFTTmqC0Q)"
   ]
  },
  {
   "cell_type": "code",
   "execution_count": 0,
   "metadata": {
    "colab": {},
    "colab_type": "code",
    "id": "V2EmtMsDB6yr"
   },
   "outputs": [],
   "source": [
    "# Code Here\n"
   ]
  },
  {
   "cell_type": "code",
   "execution_count": null,
   "metadata": {
    "colab": {},
    "colab_type": "code",
    "id": "S8hIJSqdB6y7"
   },
   "outputs": [],
   "source": [
    "group_by_confirmed.to_csv('groupby_confirmed.csv')"
   ]
  },
  {
   "cell_type": "markdown",
   "metadata": {
    "colab_type": "text",
    "id": "aCVBOuCZB6zL"
   },
   "source": [
    "<h2>5. Matplotlib Visualization: Bar plot </h2>\n",
    "\n",
    "Gunakan data grouping pada soal sebelumnya untuk melakukan visualisasi. jika kalian tidak dapat menyelesaikan soal tersebut, maka silahkan download data berikut yang merupakan hasil dari data grouping.\n",
    "\n",
    "[Download](https://drive.google.com/uc?export=download&id=1ZHnO7O4yRUMiPmsX5zB_S_oB-w8lD1Yf)\n",
    "\n",
    "Normalisasi data hasil grouping tersebut dengan rumus min-max normalisasi seperti di gambar. Kemudian buatlah grouping Visualization dengan berplot, visualisasikan data column 'Obesity', 'Fruits - Excluding Wine', 'Fish, Seafood', 'Animal Products' dan 'Vegetal Products'. \n",
    "\n",
    "Expected Output yang di hasilkan seperti gambar berikut.\n",
    "\n",
    "![alt text](https://drive.google.com/uc?id=1v7aJMCeD_sUaZ0WQaQzAxCTy_EUJ7E4M)"
   ]
  },
  {
   "cell_type": "markdown",
   "metadata": {
    "colab_type": "text",
    "id": "8BDrUwc6B6zN"
   },
   "source": [
    "## Rumus Normalisasi\n",
    "\n",
    "![alt text](https://drive.google.com/uc?id=1_1ueCPAPC1ialSsfQQ9Wm_TmGP9u-kEo)"
   ]
  },
  {
   "cell_type": "markdown",
   "metadata": {
    "colab_type": "text",
    "id": "GNwgeySvB6zQ"
   },
   "source": [
    "## Expected Ouput Data Hasil Normalisasi\n",
    "\n",
    "![alt text](https://drive.google.com/uc?id=1Y7X46acxUUSSByjsL99LMurNF8018Zbv)"
   ]
  },
  {
   "cell_type": "code",
   "execution_count": 229,
   "metadata": {
    "colab": {},
    "colab_type": "code",
    "id": "3HxIw3RDB6zV"
   },
   "outputs": [
    {
     "data": {
      "text/html": [
       "<div>\n",
       "<style scoped>\n",
       "    .dataframe tbody tr th:only-of-type {\n",
       "        vertical-align: middle;\n",
       "    }\n",
       "\n",
       "    .dataframe tbody tr th {\n",
       "        vertical-align: top;\n",
       "    }\n",
       "\n",
       "    .dataframe thead th {\n",
       "        text-align: right;\n",
       "    }\n",
       "</style>\n",
       "<table border=\"1\" class=\"dataframe\">\n",
       "  <thead>\n",
       "    <tr style=\"text-align: right;\">\n",
       "      <th></th>\n",
       "      <th>Obesity</th>\n",
       "      <th>Meat</th>\n",
       "      <th>Fruits - Excluding Wine</th>\n",
       "      <th>Fish, Seafood</th>\n",
       "      <th>Animal Products</th>\n",
       "      <th>Vegetal Products</th>\n",
       "    </tr>\n",
       "    <tr>\n",
       "      <th>Confirmed Category</th>\n",
       "      <th></th>\n",
       "      <th></th>\n",
       "      <th></th>\n",
       "      <th></th>\n",
       "      <th></th>\n",
       "      <th></th>\n",
       "    </tr>\n",
       "  </thead>\n",
       "  <tbody>\n",
       "    <tr>\n",
       "      <th>Sangat Tidak Banyak</th>\n",
       "      <td>0.000000</td>\n",
       "      <td>0.070203</td>\n",
       "      <td>0.000000</td>\n",
       "      <td>0.000000</td>\n",
       "      <td>0.000000</td>\n",
       "      <td>1.000000</td>\n",
       "    </tr>\n",
       "    <tr>\n",
       "      <th>Tidak Banyak</th>\n",
       "      <td>0.241866</td>\n",
       "      <td>0.000000</td>\n",
       "      <td>0.401324</td>\n",
       "      <td>0.660219</td>\n",
       "      <td>0.029487</td>\n",
       "      <td>0.970516</td>\n",
       "    </tr>\n",
       "    <tr>\n",
       "      <th>Sedang</th>\n",
       "      <td>0.726771</td>\n",
       "      <td>0.799348</td>\n",
       "      <td>1.000000</td>\n",
       "      <td>0.363049</td>\n",
       "      <td>0.445126</td>\n",
       "      <td>0.554882</td>\n",
       "    </tr>\n",
       "    <tr>\n",
       "      <th>Cukup Banyak</th>\n",
       "      <td>0.901272</td>\n",
       "      <td>1.000000</td>\n",
       "      <td>0.500284</td>\n",
       "      <td>1.000000</td>\n",
       "      <td>0.854571</td>\n",
       "      <td>0.145628</td>\n",
       "    </tr>\n",
       "    <tr>\n",
       "      <th>Sangat Banyak</th>\n",
       "      <td>1.000000</td>\n",
       "      <td>0.988665</td>\n",
       "      <td>0.194716</td>\n",
       "      <td>0.544864</td>\n",
       "      <td>1.000000</td>\n",
       "      <td>0.000000</td>\n",
       "    </tr>\n",
       "  </tbody>\n",
       "</table>\n",
       "</div>"
      ],
      "text/plain": [
       "                      Obesity      Meat  Fruits - Excluding Wine  \\\n",
       "Confirmed Category                                                 \n",
       "Sangat Tidak Banyak  0.000000  0.070203                 0.000000   \n",
       "Tidak Banyak         0.241866  0.000000                 0.401324   \n",
       "Sedang               0.726771  0.799348                 1.000000   \n",
       "Cukup Banyak         0.901272  1.000000                 0.500284   \n",
       "Sangat Banyak        1.000000  0.988665                 0.194716   \n",
       "\n",
       "                     Fish, Seafood  Animal Products  Vegetal Products  \n",
       "Confirmed Category                                                     \n",
       "Sangat Tidak Banyak       0.000000         0.000000          1.000000  \n",
       "Tidak Banyak              0.660219         0.029487          0.970516  \n",
       "Sedang                    0.363049         0.445126          0.554882  \n",
       "Cukup Banyak              1.000000         0.854571          0.145628  \n",
       "Sangat Banyak             0.544864         1.000000          0.000000  "
      ]
     },
     "execution_count": 229,
     "metadata": {},
     "output_type": "execute_result"
    }
   ],
   "source": [
    "# Code Here\n",
    "\n",
    "# normalisasi\n",
    "df_confirmed = pd.read_csv('groupby_confirmed.csv')\n",
    "\n",
    "def normalized(x):\n",
    "    return (x - x.min()) / (x.max() - x.min())\n",
    "\n",
    "df_category = df_confirmed['Confirmed Category']\n",
    "list_normalized= ['Obesity', 'Meat', 'Fruits - Excluding Wine', 'Fish, Seafood', 'Animal Products', 'Vegetal Products']\n",
    "df_normalization = df_confirmed[list_normalized].apply(normalized) \n",
    "df_final = pd.concat([df_category, df_normalization], axis=1)\n",
    "df_final = df_final.set_index('Confirmed Category')\n",
    "df_final"
   ]
  },
  {
   "cell_type": "code",
   "execution_count": 254,
   "metadata": {},
   "outputs": [
    {
     "data": {
      "image/png": "[encoded data removed]",
      "text/plain": [
       "<Figure size 1440x576 with 1 Axes>"
      ]
     },
     "metadata": {},
     "output_type": "display_data"
    }
   ],
   "source": [
    "# visualisasi\n",
    "import matplotlib.pyplot as plt\n",
    "\n",
    "sangat_tidak_banyak = df_final.loc['Sangat Tidak Banyak']\n",
    "tidak_banyak = df_final.loc['Tidak Banyak']\n",
    "sedang = df_final.loc['Sedang']\n",
    "cukup_banyak = df_final.loc['Cukup Banyak']\n",
    "sangat_banyak = df_final.loc['Sangat Banyak']\n",
    "\n",
    "x = np.arange(0, 12, 2)\n",
    "\n",
    "plt.style.use('dark_background')\n",
    "fig, ax = plt.subplots(figsize=(20, 8))\n",
    "\n",
    "ax.bar(x, sangat_tidak_banyak, width= 0.2 , label= 'Sangat Tidak Banyak')\n",
    "ax.bar(x+0.2, tidak_banyak, width= 0.2 , label= 'Tidak Banyak')\n",
    "ax.bar(x+0.4, sedang, width= 0.2 , label= 'Sedang')\n",
    "ax.bar(x+0.6, cukup_banyak, width= 0.2 , label= 'Cukup Banyak')\n",
    "ax.bar(x+0.8, sangat_banyak, width= 0.2 , label= 'Sangat Banyak')\n",
    "\n",
    "ax.set_title('Perbandingan Kasus Konsumsi Makanan Berdasarkan Tingkat Kasus COVID-19')\n",
    "plt.xticks([0.5, 2.5, 4.5, 6.5, 8.5, 10.5], df_final.columns)\n",
    "plt.legend(loc='upper right',bbox_to_anchor=(1.1,1.1))\n",
    "plt.show()"
   ]
  },
  {
   "cell_type": "markdown",
   "metadata": {
    "colab_type": "text",
    "id": "M-Wd3_hOB6zu"
   },
   "source": [
    "<h2>6. Matplotlib Visualization: Scatter Plot </h2>"
   ]
  },
  {
   "cell_type": "code",
   "execution_count": null,
   "metadata": {},
   "outputs": [],
   "source": []
  },
  {
   "cell_type": "markdown",
   "metadata": {
    "colab_type": "text",
    "id": "N69ef5bYB6zw"
   },
   "source": [
    "Buatlah visualisasi perbandingan scatter plot dimana kita akan membandingkan respon Jumlah Kasus Covid-19 yang terkonfirmasi berdasarkan Supply Sayuran. dimana :\n",
    "- Tandai proporsi kematian jumlah kematian (column Death) dengan ukuran dari data poin.  \n",
    "- Tandai proporsi produk hewani (column Animal Product) dengan warna, berikan colormap 'gist_yarg'.\n",
    "\n",
    "Expected Output :\n",
    "\n",
    "![alt text](https://drive.google.com/uc?id=1eAzqLAdj7Ef-pvJ4dyr0nUB-EuUldGIo)"
   ]
  },
  {
   "cell_type": "code",
   "execution_count": 289,
   "metadata": {
    "colab": {},
    "colab_type": "code",
    "id": "A6ls8EYsB6zy"
   },
   "outputs": [
    {
     "data": {
      "image/png": "[encoded data removed]",
      "text/plain": [
       "<Figure size 1152x576 with 2 Axes>"
      ]
     },
     "metadata": {},
     "output_type": "display_data"
    }
   ],
   "source": [
    "# Code Here\n",
    "plt.style.use('seaborn-dark')\n",
    "fig, ax = plt.subplots(figsize=(16,8))\n",
    "\n",
    "death = df_food['Deaths']\n",
    "animal = df_food['Animal Products']\n",
    "confirmed = df_food['Confirmed']\n",
    "vegetal =  df_food['Vegetal Products']\n",
    "\n",
    "mappbar = ax.scatter(vegetal, confirmed, cmap='gist_yarg', c=animal, s=death*100000)\n",
    "\n",
    "fig.colorbar(mappbar)\n",
    "\n",
    "ax.set_xlabel('Supply Vegetal Product')\n",
    "ax.set_ylabel('Covid-19 Case Confirmed')\n",
    "ax.set_title('Healthy Food and Covid-19')\n",
    "plt.show()"
   ]
  },
  {
   "cell_type": "code",
   "execution_count": null,
   "metadata": {},
   "outputs": [],
   "source": []
  }
 ],
 "metadata": {
  "colab": {
   "collapsed_sections": [],
   "name": "Quiz-3 Sabtu.ipynb",
   "provenance": []
  },
  "kernelspec": {
   "display_name": "Python 3",
   "language": "python",
   "name": "python3"
  },
  "language_info": {
   "codemirror_mode": {
    "name": "ipython",
    "version": 3
   },
   "file_extension": ".py",
   "mimetype": "text/x-python",
   "name": "python",
   "nbconvert_exporter": "python",
   "pygments_lexer": "ipython3",
   "version": "3.8.2"
  }
 },
 "nbformat": 4,
 "nbformat_minor": 1
}
